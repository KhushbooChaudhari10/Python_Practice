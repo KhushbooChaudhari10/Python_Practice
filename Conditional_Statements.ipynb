{
  "nbformat": 4,
  "nbformat_minor": 0,
  "metadata": {
    "colab": {
      "provenance": [],
      "authorship_tag": "ABX9TyNKYSUqajTGFJ5wFu6SoZZI",
      "include_colab_link": true
    },
    "kernelspec": {
      "name": "python3",
      "display_name": "Python 3"
    },
    "language_info": {
      "name": "python"
    }
  },
  "cells": [
    {
      "cell_type": "markdown",
      "metadata": {
        "id": "view-in-github",
        "colab_type": "text"
      },
      "source": [
        "<a href=\"https://colab.research.google.com/github/KhushbooChaudhari10/Python_Practice/blob/main/Conditional_Statements.ipynb\" target=\"_parent\"><img src=\"https://colab.research.google.com/assets/colab-badge.svg\" alt=\"Open In Colab\"/></a>"
      ]
    },
    {
      "cell_type": "code",
      "execution_count": 1,
      "metadata": {
        "colab": {
          "base_uri": "https://localhost:8080/"
        },
        "id": "GbzWweNzOYyF",
        "outputId": "c4344e7c-c915-4992-ae98-35260bee8a1e"
      },
      "outputs": [
        {
          "output_type": "stream",
          "name": "stdout",
          "text": [
            "Enter an integer: 10\n",
            "Positive\n"
          ]
        }
      ],
      "source": [
        "# Use if, else, and elif to write a program that takes an integer and prints whether it's:\n",
        "\n",
        "# Positive\n",
        "\n",
        "# Negative\n",
        "\n",
        "# Zero\n",
        "\n",
        "integer = int(input(\"Enter an integer: \"))\n",
        "\n",
        "if integer > 0:\n",
        "    print(\"Positive\")\n",
        "elif integer < 0:\n",
        "    print(\"Negative\")\n",
        "else:\n",
        "    print(\"Zero\")"
      ]
    },
    {
      "cell_type": "code",
      "source": [
        "# Even or Odd Checker\n",
        "# Take an integer input from the user and print whether it is even or odd.\n",
        "\n",
        "integer = int(input(\"Enter an integer: \"))\n",
        "\n",
        "if integer % 2 == 0:\n",
        "    print(\"Even\")\n",
        "else:\n",
        "    print(\"Odd\")"
      ],
      "metadata": {
        "colab": {
          "base_uri": "https://localhost:8080/"
        },
        "id": "LnjM0z71PKzS",
        "outputId": "f63af279-57d9-4950-aaaf-935827c297b8"
      },
      "execution_count": 3,
      "outputs": [
        {
          "output_type": "stream",
          "name": "stdout",
          "text": [
            "Enter an integer: 3\n",
            "Odd\n"
          ]
        }
      ]
    },
    {
      "cell_type": "code",
      "source": [
        "# Age Category\n",
        "# Take age as input and print:\n",
        "\n",
        "# \"Child\" if age < 13\n",
        "\n",
        "# \"Teen\" if 13 ≤ age < 20\n",
        "\n",
        "# \"Adult\" if 20 ≤ age < 60\n",
        "\n",
        "# \"Senior\" if age ≥ 60\n",
        "\n",
        "age = int(input(\"Enter Your age: \"))\n",
        "if age < 13:\n",
        "  print(\"Child\")\n",
        "elif age >= 13 and age < 20:\n",
        "  print(\"Teen\")\n",
        "elif age >= 20 and age < 60:\n",
        "  print(\"Adult\")\n",
        "else:\n",
        "  print(\"Senior\")"
      ],
      "metadata": {
        "colab": {
          "base_uri": "https://localhost:8080/"
        },
        "id": "h2i9VYJqPdHr",
        "outputId": "12286488-7754-453b-b317-51aeaeb5cc18"
      },
      "execution_count": 4,
      "outputs": [
        {
          "output_type": "stream",
          "name": "stdout",
          "text": [
            "Enter Your age: 23\n",
            "Adult\n"
          ]
        }
      ]
    },
    {
      "cell_type": "code",
      "source": [
        "# Check Leap Year\n",
        "# Take a year as input and check if it's a leap year using if-elif-else.\n",
        "\n",
        "year = int(input(\"Enter a year: \"))\n",
        "if (year % 4 == 0 and year % 100 != 0) or (year % 400 == 0):\n",
        "    print(\"Leap Year\")\n",
        "else:\n",
        "    print(\"Not a Leap Year\")"
      ],
      "metadata": {
        "colab": {
          "base_uri": "https://localhost:8080/"
        },
        "id": "A6z5gyICQa0A",
        "outputId": "0006dc4f-f877-418c-ff37-179215797924"
      },
      "execution_count": 5,
      "outputs": [
        {
          "output_type": "stream",
          "name": "stdout",
          "text": [
            "Enter a year: 2025\n",
            "Not a Leap Year\n"
          ]
        }
      ]
    },
    {
      "cell_type": "code",
      "source": [
        "# Find the Greatest of Two Numbers\n",
        "# Take two numbers as input and print the greater one.\n",
        "a = int(input(\"Enter a number1: \"))\n",
        "b = int(input(\"Enter a number2: \"))\n",
        "if a > b:\n",
        "    print(a)\n",
        "else:\n",
        "    print(b)\n"
      ],
      "metadata": {
        "colab": {
          "base_uri": "https://localhost:8080/"
        },
        "id": "lAf9rrwtQrV1",
        "outputId": "a37f4577-2d8a-454a-8bd1-0e40d2c895a1"
      },
      "execution_count": 7,
      "outputs": [
        {
          "output_type": "stream",
          "name": "stdout",
          "text": [
            "Enter a number1: 10\n",
            "Enter a number2: 20\n",
            "20\n"
          ]
        }
      ]
    },
    {
      "cell_type": "code",
      "source": [
        "# Find the Greatest of Three Numbers\n",
        "# Take three numbers as input and use conditional statements to print the largest.\n",
        "\n",
        "a = int(input(\"Enter a number1: \"))\n",
        "b = int(input(\"Enter a number2: \"))\n",
        "c = int(input(\"Enter a number3: \"))\n",
        "if a > b and a > c:\n",
        "    print(a)\n",
        "elif b > a and b > c:\n",
        "    print(b)\n",
        "else:\n",
        "    print(c)"
      ],
      "metadata": {
        "colab": {
          "base_uri": "https://localhost:8080/"
        },
        "id": "Nyvu-4FOUH66",
        "outputId": "3418daae-25c1-420f-da36-d572a0f74eb4"
      },
      "execution_count": 8,
      "outputs": [
        {
          "output_type": "stream",
          "name": "stdout",
          "text": [
            "Enter a number1: 10\n",
            "Enter a number2: 5\n",
            "Enter a number3: 25\n",
            "25\n"
          ]
        }
      ]
    },
    {
      "cell_type": "code",
      "source": [
        "# Simple Calculator\n",
        "# Take two numbers and an operator (+, -, *, /). Use if-elif-else to perform the correct operation.\n",
        "\n",
        "a = int(input(\"Enter a number1: \"))\n",
        "b = int(input(\"Enter a number2: \"))\n",
        "operator = input(\"Enter an operator: \")\n",
        "if operator == \"+\":\n",
        "    print(a + b)\n",
        "elif operator == \"-\":\n",
        "    print(a - b)\n",
        "elif operator == \"*\":\n",
        "    print(a * b)\n",
        "elif operator == \"/\":\n",
        "  if b == 0:\n",
        "    print(\"Cannot divide by zero\")\n",
        "  else:\n",
        "    print(a / b)\n",
        "else:\n",
        "    print(\"Invalid operator\")"
      ],
      "metadata": {
        "colab": {
          "base_uri": "https://localhost:8080/"
        },
        "id": "Q3edo_4mU_rr",
        "outputId": "91886b79-617a-4da9-bc01-b28c0835ce21"
      },
      "execution_count": 10,
      "outputs": [
        {
          "output_type": "stream",
          "name": "stdout",
          "text": [
            "Enter a number1: 5\n",
            "Enter a number2: 0\n",
            "Enter an operator: /\n",
            "Cannot divide by zero\n"
          ]
        }
      ]
    },
    {
      "cell_type": "code",
      "source": [
        "# Pass/Fail Checker\n",
        "# Take a student's marks and check:\n",
        "\n",
        "# \"Pass\" if marks ≥ 33\n",
        "\n",
        "# \"Fail\" if marks < 33\n",
        "\n",
        "marks = int(input(\"Enter a marks: \"))\n",
        "if marks >= 33:\n",
        "    print(\"Pass\")\n",
        "else:\n",
        "    print(\"Fail\")\n",
        "\n"
      ],
      "metadata": {
        "colab": {
          "base_uri": "https://localhost:8080/"
        },
        "id": "TgkTtzBvVOst",
        "outputId": "cdaf9ccb-4f03-448e-bb9f-54e661b4a017"
      },
      "execution_count": 11,
      "outputs": [
        {
          "output_type": "stream",
          "name": "stdout",
          "text": [
            "Enter a marks: 45\n",
            "Pass\n"
          ]
        }
      ]
    },
    {
      "cell_type": "code",
      "source": [
        "# Vowel or Consonant\n",
        "# Input a single character and check whether it’s a vowel or consonant.\n",
        "\n",
        "character = input(\"Enter a character: \")\n",
        "if character in \"aeiouAEIOU\":\n",
        "    print(\"Vowel\")\n",
        "else:\n",
        "    print(\"Consonant\")"
      ],
      "metadata": {
        "colab": {
          "base_uri": "https://localhost:8080/"
        },
        "id": "3bcHWxmsZJx3",
        "outputId": "4c6e3feb-11cc-459c-bb79-b8fe4a591915"
      },
      "execution_count": 12,
      "outputs": [
        {
          "output_type": "stream",
          "name": "stdout",
          "text": [
            "Enter a character: v\n",
            "Consonant\n"
          ]
        }
      ]
    },
    {
      "cell_type": "code",
      "source": [
        "# Divisibility Checker\n",
        "# Take a number and:\n",
        "\n",
        "# If divisible by both 3 and 5, print \"FizzBuzz\"\n",
        "\n",
        "# If only by 3, print \"Fizz\"\n",
        "\n",
        "# If only by 5, print \"Buzz\"\n",
        "\n",
        "# Else print the number\n",
        "\n",
        "num = int(input(\"Enter a number: \"))\n",
        "if (num%3 == 0 and num%5 == 0):\n",
        "  print(\"FizzBuzz\")\n",
        "elif (num%3 == 0):\n",
        "  print(\"Fizz\")\n",
        "elif (num%5 == 5):\n",
        "  print(\"Buzz\")\n",
        "else:\n",
        "  print(num)"
      ],
      "metadata": {
        "colab": {
          "base_uri": "https://localhost:8080/"
        },
        "id": "crho6iKtbaiW",
        "outputId": "9c963964-c2ea-483d-8d62-139233f6498e"
      },
      "execution_count": 15,
      "outputs": [
        {
          "output_type": "stream",
          "name": "stdout",
          "text": [
            "Enter a number: 15\n",
            "FizzBuzz\n"
          ]
        }
      ]
    },
    {
      "cell_type": "code",
      "source": [
        "# Menu-Driven Program\n",
        "# Show a menu (Add, Subtract, Multiply, Divide). Take input and perform the selected operation using if-elif-else.\n",
        "\n",
        "n1 = int(input(\"Enter The number: \"))\n",
        "n2 = int(input(\"Enter The number: \"))\n",
        "print(\"1. Add\")\n",
        "print(\"2. Subtract\")\n",
        "print(\"3. Multiply\")\n",
        "print(\"4. Divide\")\n",
        "choice = int(input(\"Enter Your Choice: \"))\n",
        "if choice == 1:\n",
        "  print(n1 + n2)\n",
        "  print(\"Addition\")\n",
        "elif choice == 2:\n",
        "  print(n1 - n2)\n",
        "  print(\"Subtraction\")\n",
        "elif choice == 3:\n",
        "  print(n1 * n2)\n",
        "  print(\"Multiplication\")\n",
        "elif choice == 4:\n",
        "  print(n1 / n2)\n",
        "  print(\"Division\")\n",
        "else:\n",
        "  print(\"Invalid Choice\")\n"
      ],
      "metadata": {
        "colab": {
          "base_uri": "https://localhost:8080/"
        },
        "id": "5Nc7erFYbt6Y",
        "outputId": "ddd5d6a5-e748-44a5-b2ff-dbb1094840e3"
      },
      "execution_count": 17,
      "outputs": [
        {
          "output_type": "stream",
          "name": "stdout",
          "text": [
            "Enter The number: 15\n",
            "Enter The number: 5\n",
            "1. Add\n",
            "2. Subtract\n",
            "3. Multiply\n",
            "4. Divide\n",
            "Enter Your Choice: 1\n",
            "20\n",
            "Addition\n"
          ]
        }
      ]
    },
    {
      "cell_type": "code",
      "source": [
        "# Grade Generator\n",
        "# Input marks and assign grade:\n",
        "\n",
        "# ≥90: A\n",
        "\n",
        "# 75–89: B\n",
        "\n",
        "# 60–74: C\n",
        "\n",
        "# 33–59: D\n",
        "\n",
        "# <33: Fail\n",
        "\n",
        "marks = int(input(\"Enter a marks: \"))\n",
        "if marks >= 90:\n",
        "    print(\"A\")\n",
        "elif marks >= 75:\n",
        "    print(\"B\")\n",
        "elif marks >= 60:\n",
        "    print(\"C\")\n",
        "elif marks >= 33:\n",
        "    print(\"D\")\n",
        "else:\n",
        "    print(\"Fail\")"
      ],
      "metadata": {
        "colab": {
          "base_uri": "https://localhost:8080/"
        },
        "id": "8mg4fM9vcQNZ",
        "outputId": "8ca147c1-bcb8-4ac6-f9b9-cda3961c331b"
      },
      "execution_count": 18,
      "outputs": [
        {
          "output_type": "stream",
          "name": "stdout",
          "text": [
            "Enter a marks: 98\n",
            "A\n"
          ]
        }
      ]
    },
    {
      "cell_type": "code",
      "source": [
        "# Login System\n",
        "# Check entered username and password against stored ones. Allow login only if both match.\n",
        "username = \"Khushboo\"\n",
        "password = \"Khushboo@10\"\n",
        "entered_username = input(\"Enter username: \")\n",
        "entered_password = input(\"Enter password: \")\n",
        "if entered_username == username and entered_password == password:\n",
        "    print(\"Login successful\")\n",
        "else:\n",
        "    print(\"Login failed\")"
      ],
      "metadata": {
        "colab": {
          "base_uri": "https://localhost:8080/"
        },
        "id": "4skPjuCDcvRU",
        "outputId": "c1091d6a-5d33-409c-e453-702fb7e5c147"
      },
      "execution_count": 21,
      "outputs": [
        {
          "output_type": "stream",
          "name": "stdout",
          "text": [
            "Enter username: Khushboo\n",
            "Enter password: Khushboo@10\n",
            "Login successful\n"
          ]
        }
      ]
    },
    {
      "cell_type": "code",
      "source": [
        "# Electricity Bill Calculator\n",
        "# Based on units consumed:\n",
        "\n",
        "# <100: ₹2/unit\n",
        "\n",
        "# 100–199: ₹3/unit\n",
        "\n",
        "# ≥200: ₹5/unit\n",
        "# Use if-elif-else to calculate total bill.\n",
        "\n",
        "units = int(input(\"Enter units consumed: \"))\n",
        "if units < 100:\n",
        "    bill = units * 2\n",
        "elif units <= 199:\n",
        "    bill = units * 3\n",
        "else:\n",
        "    bill = units * 5\n",
        "\n",
        "print(\"Total bill: ₹\", bill)"
      ],
      "metadata": {
        "colab": {
          "base_uri": "https://localhost:8080/"
        },
        "id": "Iz-6pNV2c93b",
        "outputId": "723e8aae-ee14-439c-d257-e1fd95f49452"
      },
      "execution_count": 23,
      "outputs": [
        {
          "output_type": "stream",
          "name": "stdout",
          "text": [
            "Enter units consumed: 400\n",
            "Total bill: ₹ 2000\n"
          ]
        }
      ]
    },
    {
      "cell_type": "code",
      "source": [
        "# Nested Condition Example\n",
        "# Take input for age and nationality.\n",
        "\n",
        "# If age ≥ 18 and nationality is \"Indian\", print \"Eligible to vote\"\n",
        "\n",
        "# Else print \"Not eligible\"\n",
        "\n",
        "age = int(input(\"Enter age: \"))\n",
        "nationality = input(\"Enter nationality: \")\n",
        "if age >= 18:\n",
        "    if nationality == \"Indian\":\n",
        "        print(\"Eligible to vote\")\n",
        "    else:\n",
        "        print(\"Not eligible\")\n",
        "\n",
        "else:\n",
        "    print(\"Not eligible\")"
      ],
      "metadata": {
        "colab": {
          "base_uri": "https://localhost:8080/"
        },
        "id": "kU9sY50udW25",
        "outputId": "457502ff-a641-495f-8692-66d31de4d38e"
      },
      "execution_count": 25,
      "outputs": [
        {
          "output_type": "stream",
          "name": "stdout",
          "text": [
            "Enter age: 17\n",
            "Enter nationality: Indian\n",
            "Not eligible\n"
          ]
        }
      ]
    },
    {
      "cell_type": "code",
      "source": [],
      "metadata": {
        "id": "Z7V4YGr4dqrt"
      },
      "execution_count": null,
      "outputs": []
    }
  ]
}