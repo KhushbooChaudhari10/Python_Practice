{
  "nbformat": 4,
  "nbformat_minor": 0,
  "metadata": {
    "colab": {
      "provenance": [],
      "authorship_tag": "ABX9TyPMheBJBycuFXdioSACp4Z/",
      "include_colab_link": true
    },
    "kernelspec": {
      "name": "python3",
      "display_name": "Python 3"
    },
    "language_info": {
      "name": "python"
    }
  },
  "cells": [
    {
      "cell_type": "markdown",
      "metadata": {
        "id": "view-in-github",
        "colab_type": "text"
      },
      "source": [
        "<a href=\"https://colab.research.google.com/github/KhushbooChaudhari10/Python_Practice/blob/main/lambda_map_filter_reduce.ipynb\" target=\"_parent\"><img src=\"https://colab.research.google.com/assets/colab-badge.svg\" alt=\"Open In Colab\"/></a>"
      ]
    },
    {
      "cell_type": "code",
      "execution_count": 3,
      "metadata": {
        "colab": {
          "base_uri": "https://localhost:8080/"
        },
        "id": "jCqhIhbpq5jB",
        "outputId": "ec94e07c-5272-408e-bdc2-be72a7836b85"
      },
      "outputs": [
        {
          "output_type": "stream",
          "name": "stdout",
          "text": [
            "Enter a number: 5\n",
            "25\n"
          ]
        }
      ],
      "source": [
        "# Square of a number using lambda\n",
        "# Write a lambda function to return the square of a number.\n",
        "\n",
        "def sqr(n):\n",
        "  square = lambda n : n * n\n",
        "  return square(n)\n",
        "\n",
        "x = int(input(\"Enter a number: \"))\n",
        "print(sqr(x))"
      ]
    },
    {
      "cell_type": "code",
      "source": [
        "#  Maximum of two numbers using lambda\n",
        "# Use a lambda to return the larger of two numbers.\n",
        "\n",
        "def maximum(a, b):\n",
        "  maxi = lambda a, b : a if a > b else b\n",
        "  return maxi(a, b)\n",
        "x = int(input(\"Enter first number: \"))\n",
        "y = int(input(\"Enter second number: \"))\n",
        "maximum(x, y)"
      ],
      "metadata": {
        "colab": {
          "base_uri": "https://localhost:8080/"
        },
        "id": "mQkdqqYJstJV",
        "outputId": "4ecf1110-2da0-4cbf-efee-1c864256a88f"
      },
      "execution_count": 4,
      "outputs": [
        {
          "name": "stdout",
          "output_type": "stream",
          "text": [
            "Enter first number: 4\n",
            "Enter second number: 2\n"
          ]
        },
        {
          "output_type": "execute_result",
          "data": {
            "text/plain": [
              "4"
            ]
          },
          "metadata": {},
          "execution_count": 4
        }
      ]
    },
    {
      "cell_type": "code",
      "source": [
        "# Multiply all elements in a list using map and lambda\n",
        "# Input: [1, 2, 3, 4]\n",
        "# Output: [2, 4, 6, 8] (Multiply each by 2)\n",
        "\n",
        "input = [1, 2, 3, 4]\n",
        "def Multiply(a):\n",
        "  output = list(map(lambda x : x * 2, a))\n",
        "  print(output)\n",
        "\n",
        "Multiply(input)"
      ],
      "metadata": {
        "colab": {
          "base_uri": "https://localhost:8080/"
        },
        "id": "6SNtHySTturG",
        "outputId": "9cdfeff2-8025-4bc2-dddb-484cdf86a086"
      },
      "execution_count": 9,
      "outputs": [
        {
          "output_type": "stream",
          "name": "stdout",
          "text": [
            "[2, 4, 6, 8]\n"
          ]
        }
      ]
    },
    {
      "cell_type": "code",
      "source": [
        "# Filter even numbers from a list using filter() and lambda\n",
        "# Input: [1, 2, 3, 4, 5, 6]\n",
        "# Output: [2, 4, 6]\n",
        "Input = [1, 2, 3, 4, 5, 6]\n",
        "def even(n):\n",
        "  if n % 2 == 0:\n",
        "    return n\n",
        "\n",
        "even_nums = filter(even, Input)\n",
        "print(list(even_nums))"
      ],
      "metadata": {
        "colab": {
          "base_uri": "https://localhost:8080/"
        },
        "id": "19g8vv1B0tfD",
        "outputId": "5c830af5-b6dc-4c79-ebd5-bb610dce53ad"
      },
      "execution_count": 11,
      "outputs": [
        {
          "output_type": "stream",
          "name": "stdout",
          "text": [
            "[2, 4, 6]\n"
          ]
        }
      ]
    },
    {
      "cell_type": "code",
      "source": [
        "# Filter words longer than 4 letters\n",
        "# Input: ['apple', 'hi', 'car', 'banana']\n",
        "# Output: ['apple', 'banana']\n",
        "\n",
        "Input= [\"apple\", 'hi', 'car', 'banana']\n",
        "def len_words(word):\n",
        "  if len(word) > 4:\n",
        "    return word\n",
        "\n",
        "long_words = filter(len_words, Input)\n",
        "print(list(long_words))\n",
        "\n"
      ],
      "metadata": {
        "colab": {
          "base_uri": "https://localhost:8080/"
        },
        "id": "16bQTAi42Gd8",
        "outputId": "f7b744d9-cd57-4537-f6b1-8fc9a022a44e"
      },
      "execution_count": 12,
      "outputs": [
        {
          "output_type": "stream",
          "name": "stdout",
          "text": [
            "['apple', 'banana']\n"
          ]
        }
      ]
    },
    {
      "cell_type": "code",
      "source": [
        "# Convert all strings in a list to uppercase using map() and lambda\n",
        "# Input: ['cat', 'dog', 'tiger']\n",
        "# Output: ['CAT', 'DOG', 'TIGER']\n",
        "\n",
        "Input= ['cat', 'dog', 'tiger']\n",
        "\n",
        "uppercase_words = list(map(lambda x : x.upper(), Input))\n",
        "print(uppercase_words)"
      ],
      "metadata": {
        "colab": {
          "base_uri": "https://localhost:8080/"
        },
        "id": "ZB5X_zxf31zQ",
        "outputId": "b7462d8c-5d75-46fe-d77a-d9d7e40a845f"
      },
      "execution_count": 14,
      "outputs": [
        {
          "output_type": "stream",
          "name": "stdout",
          "text": [
            "['CAT', 'DOG', 'TIGER']\n"
          ]
        }
      ]
    },
    {
      "cell_type": "code",
      "source": [
        "# Sum all numbers in a list using reduce() and lambda\n",
        "# Input: [1, 2, 3, 4]\n",
        "# Output: 10\n",
        "from functools import reduce\n",
        "def add(a, b):\n",
        "  return a + b\n",
        "\n",
        "x = [1, 2, 3, 4]\n",
        "result = reduce(add, x)\n",
        "print(result)"
      ],
      "metadata": {
        "colab": {
          "base_uri": "https://localhost:8080/"
        },
        "id": "Ad8-aJxb4fgM",
        "outputId": "28a49ab6-92b2-478d-87c6-12a59c8678fa"
      },
      "execution_count": 15,
      "outputs": [
        {
          "output_type": "stream",
          "name": "stdout",
          "text": [
            "10\n"
          ]
        }
      ]
    },
    {
      "cell_type": "code",
      "source": [
        "Input= [1, 2, 3, 4]\n",
        "result = reduce(lambda a, b : a + b, Input)\n",
        "print(result)"
      ],
      "metadata": {
        "colab": {
          "base_uri": "https://localhost:8080/"
        },
        "id": "bB_JW72P5Yks",
        "outputId": "6e946946-2410-4c88-a5dc-98167d2fc30e"
      },
      "execution_count": 17,
      "outputs": [
        {
          "output_type": "stream",
          "name": "stdout",
          "text": [
            "10\n"
          ]
        }
      ]
    },
    {
      "cell_type": "code",
      "source": [
        "# Find the maximum number using reduce()\n",
        "# Input: [10, 80, 32, 67]\n",
        "# Output: 67\n",
        "Input= [10, 80, 32, 67]\n",
        "ans = reduce(lambda a, b : a if a > b else b, Input)\n",
        "print(ans)\n",
        "\n",
        "\n"
      ],
      "metadata": {
        "colab": {
          "base_uri": "https://localhost:8080/"
        },
        "id": "eiv72vgz5u2r",
        "outputId": "d1fb7cfb-514b-4af8-f39d-111e76dec330"
      },
      "execution_count": 19,
      "outputs": [
        {
          "output_type": "stream",
          "name": "stdout",
          "text": [
            "80\n"
          ]
        }
      ]
    },
    {
      "cell_type": "code",
      "source": [
        "# Take a list of numbers, double the even ones, and sum them.\n",
        "# Input: [1, 2, 3, 4, 5]\n",
        "# Output: 12 (Only even: 2, 4 → double: 4, 8 → sum = 12)\n",
        "\n",
        "My_List= [1, 2, 3, 4, 5]\n",
        "\n",
        "even_nums = filter(even, My_List)\n",
        "double_even = list(map(lambda x : x * 2, even_nums))\n",
        "sum = reduce(add, double_even)\n",
        "print(sum)\n",
        "\n"
      ],
      "metadata": {
        "colab": {
          "base_uri": "https://localhost:8080/"
        },
        "id": "rbrEphSs6G3o",
        "outputId": "58b09599-be5e-420b-a5bd-4dcb93e43be0"
      },
      "execution_count": 23,
      "outputs": [
        {
          "output_type": "stream",
          "name": "stdout",
          "text": [
            "12\n"
          ]
        }
      ]
    },
    {
      "cell_type": "code",
      "source": [],
      "metadata": {
        "id": "kIVw7ZTT721C"
      },
      "execution_count": null,
      "outputs": []
    }
  ]
}