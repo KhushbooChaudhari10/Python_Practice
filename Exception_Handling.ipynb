{
  "nbformat": 4,
  "nbformat_minor": 0,
  "metadata": {
    "colab": {
      "provenance": [],
      "authorship_tag": "ABX9TyOx8t7Eqa7QOci8t53MFU6E",
      "include_colab_link": true
    },
    "kernelspec": {
      "name": "python3",
      "display_name": "Python 3"
    },
    "language_info": {
      "name": "python"
    }
  },
  "cells": [
    {
      "cell_type": "markdown",
      "metadata": {
        "id": "view-in-github",
        "colab_type": "text"
      },
      "source": [
        "<a href=\"https://colab.research.google.com/github/KhushbooChaudhari10/Python_Practice/blob/main/Exception_Handling.ipynb\" target=\"_parent\"><img src=\"https://colab.research.google.com/assets/colab-badge.svg\" alt=\"Open In Colab\"/></a>"
      ]
    },
    {
      "cell_type": "code",
      "execution_count": 5,
      "metadata": {
        "colab": {
          "base_uri": "https://localhost:8080/"
        },
        "id": "Xnae85GI4EIh",
        "outputId": "db36e2b2-376d-4e69-e6a5-67d33618cacb"
      },
      "outputs": [
        {
          "output_type": "stream",
          "name": "stdout",
          "text": [
            "Enter the number1: 4\n",
            "Enter the number2: 0\n",
            "You cannot divide by zero!\n"
          ]
        }
      ],
      "source": [
        "# 1. Handle Divide by Zero\n",
        "\n",
        "a = int(input(\"Enter the number1: \"))\n",
        "b = int(input(\"Enter the number2: \"))\n",
        "try:\n",
        "  ans = a / b\n",
        "  print(f\"division of {a} and {b} is {ans}\")\n",
        "except ZeroDivisionError:\n",
        "  print(\"You cannot divide by zero!\")\n"
      ]
    },
    {
      "cell_type": "code",
      "source": [
        "# 2. Handle Multiple Exceptions\n",
        "input1 = input(\"Enter the number1: \")\n",
        "input2 = input(\"Enter the number2: \")\n",
        "\n",
        "try:\n",
        "  a = int(input1)\n",
        "  b = int(input2)\n",
        "  ans = a / b\n",
        "  print(f\"division of {a} and {b} is {ans}\")\n",
        "except ZeroDivisionError:\n",
        "  print(\"You cannot divide by zero!\")\n",
        "except ValueError:\n",
        "  print(\"Invalid input! Please enter a valid number.\")"
      ],
      "metadata": {
        "colab": {
          "base_uri": "https://localhost:8080/"
        },
        "id": "oANg0OIW496z",
        "outputId": "43f4daeb-9756-4273-b4f5-91f517bf4548"
      },
      "execution_count": 14,
      "outputs": [
        {
          "output_type": "stream",
          "name": "stdout",
          "text": [
            "Enter the number1: a\n",
            "Enter the number2: b\n",
            "Invalid input! Please enter a valid number.\n"
          ]
        }
      ]
    },
    {
      "cell_type": "code",
      "source": [
        "# 3. Use of finally block\n",
        "\n",
        "try:\n",
        "    x = int(input(\"Enter a number: \"))\n",
        "    print(\"100 / x =\", 100 / x)\n",
        "except:\n",
        "    print(\"Something went wrong!\")\n",
        "finally:\n",
        "    print(\"This block always executes.\")\n"
      ],
      "metadata": {
        "colab": {
          "base_uri": "https://localhost:8080/"
        },
        "id": "bo4CW6gg5g3A",
        "outputId": "04f06f8c-bfc0-4674-9176-fb28e1ad9bfb"
      },
      "execution_count": 11,
      "outputs": [
        {
          "output_type": "stream",
          "name": "stdout",
          "text": [
            "Enter a number: 0\n",
            "Something went wrong!\n",
            "This block always executes.\n"
          ]
        }
      ]
    },
    {
      "cell_type": "code",
      "source": [
        "# 4. Catch Exception When Converting String to Integer\n",
        "\n",
        "s = input(\"Enter the number string: \")\n",
        "try:\n",
        "  num = int(s)\n",
        "  print(\"converted: \", num)\n",
        "except ValueError:\n",
        "  print(\"Invalid input! Please enter a valid number.\")\n"
      ],
      "metadata": {
        "colab": {
          "base_uri": "https://localhost:8080/"
        },
        "id": "oH2sh04c6iB_",
        "outputId": "118d7ec0-048e-46b7-9066-f92e595693e8"
      },
      "execution_count": 12,
      "outputs": [
        {
          "output_type": "stream",
          "name": "stdout",
          "text": [
            "Enter the number string: a\n",
            "Invalid input! Please enter a valid number.\n"
          ]
        }
      ]
    },
    {
      "cell_type": "code",
      "source": [
        "#5. Raise Custom Error if Age < 18\n",
        "age = int(input(\"Enter your age: \"))\n",
        "try:\n",
        "    if age < 18:\n",
        "        raise ValueError(\"You must be at least 18.\")\n",
        "    print(\"Access granted!\")\n",
        "except ValueError as ve:\n",
        "    print(\"Error:\", ve)\n",
        "\n"
      ],
      "metadata": {
        "colab": {
          "base_uri": "https://localhost:8080/"
        },
        "id": "F5YIV-2I9M3X",
        "outputId": "d43f7858-d5c4-4502-e5b2-248cb0ca5bf4"
      },
      "execution_count": 1,
      "outputs": [
        {
          "output_type": "stream",
          "name": "stdout",
          "text": [
            "Enter your age: 14\n",
            "Error: You must be at least 18.\n"
          ]
        }
      ]
    },
    {
      "cell_type": "code",
      "source": [
        "# 6. Try-Except with List Index\n",
        "list1 = [10, 20, 30]\n",
        "try:\n",
        "  i = int(input(\"Enter the index: \"))\n",
        "  print(list1[i])\n",
        "except IndexError:\n",
        "  print(\"Invalid index!\")\n"
      ],
      "metadata": {
        "colab": {
          "base_uri": "https://localhost:8080/"
        },
        "id": "Iqb1rh-IbbLj",
        "outputId": "cfd6b298-8ade-4dff-95c0-843ebdc1544e"
      },
      "execution_count": 3,
      "outputs": [
        {
          "output_type": "stream",
          "name": "stdout",
          "text": [
            "Enter the index: 2\n",
            "30\n"
          ]
        }
      ]
    },
    {
      "cell_type": "code",
      "source": [
        "# 7. File Not Found Handling\n",
        "\n",
        "try:\n",
        "    f = open(\"mnist_test.csv\")\n",
        "    content = f.read()\n",
        "    print(content)\n",
        "except FileNotFoundError:\n",
        "    print(\"File not found!\")\n",
        "\n"
      ],
      "metadata": {
        "colab": {
          "base_uri": "https://localhost:8080/"
        },
        "id": "ofi0jUQ4fnBv",
        "outputId": "2307e16a-723f-4ff1-d326-5bf5c73afb62"
      },
      "execution_count": 5,
      "outputs": [
        {
          "output_type": "stream",
          "name": "stdout",
          "text": [
            "File not found!\n"
          ]
        }
      ]
    },
    {
      "cell_type": "code",
      "source": [],
      "metadata": {
        "id": "a6xCNXSnfyoY"
      },
      "execution_count": null,
      "outputs": []
    }
  ]
}