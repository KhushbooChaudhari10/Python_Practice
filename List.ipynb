{
  "nbformat": 4,
  "nbformat_minor": 0,
  "metadata": {
    "colab": {
      "provenance": [],
      "authorship_tag": "ABX9TyNCBVQ9uic/30CU8xfriJct",
      "include_colab_link": true
    },
    "kernelspec": {
      "name": "python3",
      "display_name": "Python 3"
    },
    "language_info": {
      "name": "python"
    }
  },
  "cells": [
    {
      "cell_type": "markdown",
      "metadata": {
        "id": "view-in-github",
        "colab_type": "text"
      },
      "source": [
        "<a href=\"https://colab.research.google.com/github/KhushbooChaudhari10/Python_Practice/blob/main/List.ipynb\" target=\"_parent\"><img src=\"https://colab.research.google.com/assets/colab-badge.svg\" alt=\"Open In Colab\"/></a>"
      ]
    },
    {
      "cell_type": "code",
      "execution_count": null,
      "metadata": {
        "colab": {
          "base_uri": "https://localhost:8080/"
        },
        "id": "MYx2e95hlq3K",
        "outputId": "69fe8e7d-a325-48e5-ae39-ba83edac7b6e"
      },
      "outputs": [
        {
          "output_type": "stream",
          "name": "stdout",
          "text": [
            "Enter the number of elements: 5\n",
            "Enter element 1: 2\n",
            "Enter element 2: 3\n",
            "Enter element 3: 6\n",
            "Enter element 4: 7\n",
            "Enter element 5: 2\n",
            "[2, 3, 6, 7, 2]\n"
          ]
        }
      ],
      "source": [
        "# Create a List of N Elements\n",
        "# Take N numbers as input from the user and store them in a list.\n",
        "\n",
        "n = int(input(\"Enter the number of elements: \"))\n",
        "my_list = []\n",
        "\n",
        "for i in range(n):\n",
        "    element = int(input(f\"Enter element {i+1}: \"))\n",
        "    my_list.append(element)\n",
        "\n",
        "print(my_list)"
      ]
    },
    {
      "cell_type": "code",
      "source": [
        "# Sum of List Elements\n",
        "# Write a program to calculate the sum of all numbers in a list.\n",
        "sum = 0\n",
        "def add(list1):\n",
        "  global sum\n",
        "  for i in list1:\n",
        "    sum += i\n",
        "  return sum\n",
        "\n",
        "a = [1, 2, 3, 4]\n",
        "add(a)"
      ],
      "metadata": {
        "colab": {
          "base_uri": "https://localhost:8080/"
        },
        "id": "P6J_2sYDoAUE",
        "outputId": "e80db183-9284-4c51-bcf5-6f2881f773cb"
      },
      "execution_count": null,
      "outputs": [
        {
          "output_type": "execute_result",
          "data": {
            "text/plain": [
              "10"
            ]
          },
          "metadata": {},
          "execution_count": 6
        }
      ]
    },
    {
      "cell_type": "code",
      "source": [
        "# Find Maximum and Minimum in a List\n",
        "# Without using max() or min() functions.\n",
        "\n",
        "def maxi(a):\n",
        "  max_ele = a[0]\n",
        "  for i in range(len(a)):\n",
        "    if a[i] > max_ele:\n",
        "      max_ele = a[i]\n",
        "  return max_ele\n",
        "\n",
        "def mini(a):\n",
        "  min_ele = a[0]\n",
        "  for i in range(len(a)):\n",
        "    if a[i] < min_ele:\n",
        "      min_ele = a[i]\n",
        "  return min_ele\n",
        "\n",
        "a = [1, 2, 3, 4]\n",
        "print(maxi(a))\n",
        "print(mini(a))"
      ],
      "metadata": {
        "colab": {
          "base_uri": "https://localhost:8080/"
        },
        "id": "N4utsNkBok22",
        "outputId": "158c1a75-e287-4199-8f99-ab8bb60c2725"
      },
      "execution_count": null,
      "outputs": [
        {
          "output_type": "stream",
          "name": "stdout",
          "text": [
            "4\n",
            "1\n"
          ]
        }
      ]
    },
    {
      "cell_type": "code",
      "source": [
        "# Remove Duplicates from List\n",
        "# Keep only unique values.\n",
        "\n",
        "def remove_duplicates(list1):\n",
        "  unique_list = []\n",
        "  for i in list1:\n",
        "    if i not in unique_list:\n",
        "      unique_list.append(i)\n",
        "  return unique_list\n",
        "\n",
        "a = [1, 2, 3, 4, 4, 5]\n",
        "remove_duplicates(a)"
      ],
      "metadata": {
        "colab": {
          "base_uri": "https://localhost:8080/"
        },
        "id": "6pfcSxMGpoEC",
        "outputId": "b870adb7-a6cd-4868-896f-42d932e6b609"
      },
      "execution_count": null,
      "outputs": [
        {
          "output_type": "execute_result",
          "data": {
            "text/plain": [
              "[1, 2, 3, 4, 5]"
            ]
          },
          "metadata": {},
          "execution_count": 16
        }
      ]
    },
    {
      "cell_type": "code",
      "source": [
        "# Check if Element Exists in List\n",
        "# Take a number from the user and check if it's present in the list.\n",
        "\n",
        "My_list = [1, 2, 3, 4, 5]\n",
        "target_num = int(input(\"Enter a number to search: \"))\n",
        "if target_num in My_list:\n",
        "  print(f\"{target_num} is present in the list.\")\n",
        "else:\n",
        "  print(f\"{target_num} is not present in the list.\")"
      ],
      "metadata": {
        "colab": {
          "base_uri": "https://localhost:8080/"
        },
        "id": "quj54zfYrHXw",
        "outputId": "f6dac3ad-a1c8-48f7-8960-0078d05d8fa5"
      },
      "execution_count": null,
      "outputs": [
        {
          "output_type": "stream",
          "name": "stdout",
          "text": [
            "Enter a number to search: 100\n",
            "100 is not present in the list.\n"
          ]
        }
      ]
    },
    {
      "cell_type": "code",
      "source": [
        "from itertools import count\n",
        "# Count Even and Odd Numbers in a List\n",
        "# Input: [1, 2, 3, 4, 5] → Output: Even: 2, Odd: 3\n",
        "\n",
        "def count_even_odd(list1):\n",
        "  even_count = 0\n",
        "  odd_count = 0\n",
        "  for i in range(len(list1)):\n",
        "    if list1[i] % 2 == 0:\n",
        "      even_count += 1\n",
        "    else:\n",
        "      odd_count += 1\n",
        "  return even_count, odd_count\n",
        "\n",
        "list1 = [2, 3, 6, 7, 40, 20]\n",
        "count_even_odd(list1)"
      ],
      "metadata": {
        "colab": {
          "base_uri": "https://localhost:8080/"
        },
        "id": "JhVvztREr70f",
        "outputId": "d8db5296-4893-4780-e6f7-a572614719aa"
      },
      "execution_count": null,
      "outputs": [
        {
          "output_type": "execute_result",
          "data": {
            "text/plain": [
              "(4, 2)"
            ]
          },
          "metadata": {},
          "execution_count": 21
        }
      ]
    },
    {
      "cell_type": "code",
      "source": [
        "# Reverse a List without Using reverse()\n",
        "# Use slicing or a loop.\n",
        "\n",
        "def reverse_list(list1):\n",
        "  rev_list = []\n",
        "  for i in range(len(list1)-1, -1, -1):\n",
        "    rev_list.append(list1[i])\n",
        "  return rev_list\n",
        "\n",
        "L = [2, 4, 3, 5]\n",
        "reverse_list(L)\n"
      ],
      "metadata": {
        "colab": {
          "base_uri": "https://localhost:8080/"
        },
        "id": "QAKqKeDltOsv",
        "outputId": "cb417538-65c7-42a1-c688-3dd8cb3f6c96"
      },
      "execution_count": null,
      "outputs": [
        {
          "output_type": "execute_result",
          "data": {
            "text/plain": [
              "[5, 3, 4, 2]"
            ]
          },
          "metadata": {},
          "execution_count": 22
        }
      ]
    },
    {
      "cell_type": "code",
      "source": [
        "# Find Second Largest Element in List\n",
        "# Without sorting.\n",
        "\n",
        "def second_largest(list1):\n",
        "  largest = list1[0]\n",
        "  for i in list1:\n",
        "    if i > largest:\n",
        "      largest = i\n",
        "\n",
        "  second_largest = None\n",
        "  for i in list1:\n",
        "    if i != largest:\n",
        "      if second_largest is None or i > second_largest:\n",
        "        second_largest = i\n",
        "  return second_largest\n",
        "\n",
        "L = [2, 4, 3, 5]\n",
        "second_largest(L)"
      ],
      "metadata": {
        "colab": {
          "base_uri": "https://localhost:8080/"
        },
        "id": "O2DpUIEkt5eZ",
        "outputId": "475f56e2-8ea3-4beb-cdc3-802f5f82cc3e"
      },
      "execution_count": null,
      "outputs": [
        {
          "output_type": "execute_result",
          "data": {
            "text/plain": [
              "4"
            ]
          },
          "metadata": {},
          "execution_count": 23
        }
      ]
    },
    {
      "cell_type": "code",
      "source": [
        "# Sort a List Without Using sort()\n",
        "# Use a custom loop (like bubble sort).\n",
        "\n",
        "def sort_list(L):\n",
        "  n = len(L)\n",
        "  for i in range(n):\n",
        "    for j in range(0, n-i-1):\n",
        "      if L[j] > L[j+1]:\n",
        "        L[j], L[j+1] = L[j+1], L[j]\n",
        "  return L\n",
        "\n",
        "List1 = [2, 1, 8, 7]\n",
        "sort_list(List1)\n"
      ],
      "metadata": {
        "colab": {
          "base_uri": "https://localhost:8080/"
        },
        "id": "bq8ynPHiwEpo",
        "outputId": "99ca7e9a-cf61-4fea-89ff-321ec22d38e7"
      },
      "execution_count": null,
      "outputs": [
        {
          "output_type": "execute_result",
          "data": {
            "text/plain": [
              "[1, 2, 7, 8]"
            ]
          },
          "metadata": {},
          "execution_count": 24
        }
      ]
    },
    {
      "cell_type": "code",
      "source": [
        "# Merge Two Lists and Sort the Result\n",
        "\n",
        "def merge_and_sort(list1, list2):\n",
        "  merged_list = list1 + list2\n",
        "  return sorted(merged_list)\n",
        "\n",
        "a = [1, 3, 5, 7]\n",
        "b = [2, 4, 6]\n",
        "merge_and_sort(a, b)\n"
      ],
      "metadata": {
        "colab": {
          "base_uri": "https://localhost:8080/"
        },
        "id": "j8PBjugdy220",
        "outputId": "c19aa3fc-5399-4310-9ada-16143bd070a1"
      },
      "execution_count": null,
      "outputs": [
        {
          "output_type": "execute_result",
          "data": {
            "text/plain": [
              "[1, 2, 3, 4, 5, 6, 7]"
            ]
          },
          "metadata": {},
          "execution_count": 25
        }
      ]
    },
    {
      "cell_type": "code",
      "source": [
        "# List Comprehension: Square of Even Numbers\n",
        "# From a list of numbers, create a new list of squares of only even numbers.\n",
        "\n",
        "L1 = [1, 2, 3, 4, 5, 6]\n",
        "square = [x ** 2 for x in L1 if x % 2 == 0 ]\n",
        "print(square)"
      ],
      "metadata": {
        "id": "y2FqVTemzau1",
        "colab": {
          "base_uri": "https://localhost:8080/"
        },
        "outputId": "fbc16259-90e7-4a36-92b5-e1b245428073"
      },
      "execution_count": 4,
      "outputs": [
        {
          "output_type": "stream",
          "name": "stdout",
          "text": [
            "[4, 16, 36]\n"
          ]
        }
      ]
    },
    {
      "cell_type": "code",
      "source": [
        "# Remove All Zeros from a List\n",
        "L1 = [2, 0, 4, 3, 5, 0]\n",
        "L2 = []\n",
        "for i in L1:\n",
        "  if i != 0:\n",
        "    L2.append(i)\n",
        "print(L2)"
      ],
      "metadata": {
        "colab": {
          "base_uri": "https://localhost:8080/"
        },
        "id": "QkknbNfbEGWe",
        "outputId": "d549dd53-b1b1-4406-de23-406bfea3c2b1"
      },
      "execution_count": 5,
      "outputs": [
        {
          "output_type": "stream",
          "name": "stdout",
          "text": [
            "[2, 4, 3, 5]\n"
          ]
        }
      ]
    },
    {
      "cell_type": "code",
      "source": [
        "# Split List into Two Based on Value\n",
        "# Ex: All numbers < 10 go to list1, others to list2.\n",
        "L = [2, 20, 4, 25, 9, 10, 30, 31, 6]\n",
        "L1 = []\n",
        "L2 = []\n",
        "\n",
        "for i in L:\n",
        "  if i < 10:\n",
        "    L1.append(i)\n",
        "  else:\n",
        "    L2.append(i)\n",
        "print(L1)\n",
        "print(L2)\n"
      ],
      "metadata": {
        "colab": {
          "base_uri": "https://localhost:8080/"
        },
        "id": "cmAa5d9_E1pM",
        "outputId": "cc4ecb45-68af-4925-ae09-8ef7e51e1ecb"
      },
      "execution_count": 7,
      "outputs": [
        {
          "output_type": "stream",
          "name": "stdout",
          "text": [
            "[2, 4, 9, 6]\n",
            "[20, 25, 10, 30, 31]\n"
          ]
        }
      ]
    },
    {
      "cell_type": "code",
      "source": [
        "# Flatten a Nested List\n",
        "# Input: [[1, 2], [3, 4], [5]] → Output: [1, 2, 3, 4, 5]\n",
        "nested_list = [[1, 2], [3, 4], [5]]\n",
        "flattened = []\n",
        "\n",
        "for sublist in nested_list:\n",
        "  for item in sublist:\n",
        "    flattened.append(item)\n",
        "print(flattened)\n"
      ],
      "metadata": {
        "colab": {
          "base_uri": "https://localhost:8080/"
        },
        "id": "sgBpMi3VFzii",
        "outputId": "a3542ecc-f6cb-43b7-d4c8-06f1879bb886"
      },
      "execution_count": 8,
      "outputs": [
        {
          "output_type": "stream",
          "name": "stdout",
          "text": [
            "[1, 2, 3, 4, 5]\n"
          ]
        }
      ]
    },
    {
      "cell_type": "code",
      "source": [
        "\n",
        "\n",
        "\n"
      ],
      "metadata": {
        "id": "sUHgzU1tG7t2"
      },
      "execution_count": null,
      "outputs": []
    }
  ]
}