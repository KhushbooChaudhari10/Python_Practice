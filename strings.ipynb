{
  "nbformat": 4,
  "nbformat_minor": 0,
  "metadata": {
    "colab": {
      "provenance": [],
      "authorship_tag": "ABX9TyM9Olw6jA08WqknqSBBUSA6",
      "include_colab_link": true
    },
    "kernelspec": {
      "name": "python3",
      "display_name": "Python 3"
    },
    "language_info": {
      "name": "python"
    }
  },
  "cells": [
    {
      "cell_type": "markdown",
      "metadata": {
        "id": "view-in-github",
        "colab_type": "text"
      },
      "source": [
        "<a href=\"https://colab.research.google.com/github/KhushbooChaudhari10/Python_Practice/blob/main/strings.ipynb\" target=\"_parent\"><img src=\"https://colab.research.google.com/assets/colab-badge.svg\" alt=\"Open In Colab\"/></a>"
      ]
    },
    {
      "cell_type": "code",
      "execution_count": 3,
      "metadata": {
        "colab": {
          "base_uri": "https://localhost:8080/"
        },
        "id": "9nHb-9nNgxQ5",
        "outputId": "98f81c59-ddea-4d39-f4f9-2b0be3cde8c8"
      },
      "outputs": [
        {
          "name": "stdout",
          "output_type": "stream",
          "text": [
            "Enter string: khushboo\n"
          ]
        },
        {
          "output_type": "execute_result",
          "data": {
            "text/plain": [
              "8"
            ]
          },
          "metadata": {},
          "execution_count": 3
        }
      ],
      "source": [
        "# Count Characters\n",
        "# Write a program to count the number of characters in a string entered by the user.\n",
        "count = 0\n",
        "def count_char(a):\n",
        "  global count\n",
        "  for i in a:\n",
        "    count += 1\n",
        "  return count\n",
        "string = input(\"Enter string: \")\n",
        "count_char(string)"
      ]
    },
    {
      "cell_type": "code",
      "source": [
        "# Check Palindrome\n",
        "# Write a program to check if a string is a palindrome (reads the same forwards and backwards).\n",
        "\n",
        "reverse_str = \"\"\n",
        "def rev_str(string):\n",
        "  global reverse_str\n",
        "  for i in range(len(string)-1, -1, -1):\n",
        "    reverse_str += string[i]\n",
        "  return reverse_str\n",
        "\n",
        "def palindrome(s):\n",
        "  global reverse_str\n",
        "  reverse_str = rev_str(s)\n",
        "  if reverse_str == s:\n",
        "    return True\n",
        "  else:\n",
        "    return False\n",
        "\n",
        "input_string = input(\"Enter your string: \")\n",
        "palindrome(input_string)\n"
      ],
      "metadata": {
        "colab": {
          "base_uri": "https://localhost:8080/"
        },
        "id": "069u-X8UiLFg",
        "outputId": "5d27c079-a1d7-4678-ab54-9e5e64d91ca2"
      },
      "execution_count": 10,
      "outputs": [
        {
          "name": "stdout",
          "output_type": "stream",
          "text": [
            "Enter your string: abcba\n"
          ]
        },
        {
          "output_type": "execute_result",
          "data": {
            "text/plain": [
              "True"
            ]
          },
          "metadata": {},
          "execution_count": 10
        }
      ]
    },
    {
      "cell_type": "code",
      "source": [
        "# Reverse a String\n",
        "# Take a string input from the user and print it in reverse using slicing.\n",
        "\n",
        "def string(s):\n",
        "  rev_string = s[::-1]\n",
        "  return rev_string\n",
        "\n",
        "input_string = input(\"Enter your string: \")\n",
        "string(input_string)"
      ],
      "metadata": {
        "colab": {
          "base_uri": "https://localhost:8080/",
          "height": 53
        },
        "id": "h1GySuILj5hU",
        "outputId": "cea85eb1-4867-4d5b-c810-b49873c5b811"
      },
      "execution_count": 11,
      "outputs": [
        {
          "name": "stdout",
          "output_type": "stream",
          "text": [
            "Enter your string: khushboo\n"
          ]
        },
        {
          "output_type": "execute_result",
          "data": {
            "text/plain": [
              "'oobhsuhk'"
            ],
            "application/vnd.google.colaboratory.intrinsic+json": {
              "type": "string"
            }
          },
          "metadata": {},
          "execution_count": 11
        }
      ]
    },
    {
      "cell_type": "code",
      "source": [
        "# Find Vowels\n",
        "# Write a function to count the number of vowels in a given string.\n",
        "\n",
        "vowel_count = 0\n",
        "def vowels(s):\n",
        "  vowels_str = \"aeiouAEIOU\"\n",
        "  for i in s:\n",
        "    if i in vowels_str:\n",
        "      global vowel_count\n",
        "      vowel_count += 1\n",
        "  return vowel_count\n",
        "\n",
        "name = input(\"Enter your name: \")\n",
        "vowels(name)"
      ],
      "metadata": {
        "colab": {
          "base_uri": "https://localhost:8080/"
        },
        "id": "fOc6Urhymc0e",
        "outputId": "f0374282-b9d5-4fe6-b307-39d109ba9d84"
      },
      "execution_count": 12,
      "outputs": [
        {
          "name": "stdout",
          "output_type": "stream",
          "text": [
            "Enter your name: khushboo\n"
          ]
        },
        {
          "output_type": "execute_result",
          "data": {
            "text/plain": [
              "3"
            ]
          },
          "metadata": {},
          "execution_count": 12
        }
      ]
    },
    {
      "cell_type": "code",
      "source": [
        "# String Concatenation\n",
        "# Take two strings from the user and join them using + and f-string.\n",
        "\n",
        "def concat(a, b):\n",
        "  concatenated_str = (f\"{a} {b}\")\n",
        "  return concatenated_str\n",
        "\n",
        "str1 = input(\"Enter first string: \")\n",
        "str2 = input(\"Enter second string: \")\n",
        "concat(str1, str2)"
      ],
      "metadata": {
        "colab": {
          "base_uri": "https://localhost:8080/",
          "height": 70
        },
        "id": "JdMIWOFGniwJ",
        "outputId": "009b24dd-6cb0-4105-fa06-cd36e1c084fe"
      },
      "execution_count": 15,
      "outputs": [
        {
          "name": "stdout",
          "output_type": "stream",
          "text": [
            "Enter first string: khush\n",
            "Enter second string: chaudhari\n"
          ]
        },
        {
          "output_type": "execute_result",
          "data": {
            "text/plain": [
              "'khush chaudhari'"
            ],
            "application/vnd.google.colaboratory.intrinsic+json": {
              "type": "string"
            }
          },
          "metadata": {},
          "execution_count": 15
        }
      ]
    },
    {
      "cell_type": "code",
      "source": [
        "# Remove Spaces from String\n",
        "# Remove all spaces from a string entered by the user.\n",
        "\n",
        "def string(s):\n",
        "  new_str = s.replace(\" \", \"\")\n",
        "  return new_str\n",
        "\n",
        "input_string = input(\"Enter your string: \")\n",
        "string(input_string)\n",
        "\n"
      ],
      "metadata": {
        "colab": {
          "base_uri": "https://localhost:8080/",
          "height": 53
        },
        "id": "rNFHoLxLxFwU",
        "outputId": "154a2dac-9fa6-4a2e-ae8d-ffda78ead2d1"
      },
      "execution_count": 16,
      "outputs": [
        {
          "name": "stdout",
          "output_type": "stream",
          "text": [
            "Enter your string: My name is khushboo chaudhari\n"
          ]
        },
        {
          "output_type": "execute_result",
          "data": {
            "text/plain": [
              "'Mynameiskhushboochaudhari'"
            ],
            "application/vnd.google.colaboratory.intrinsic+json": {
              "type": "string"
            }
          },
          "metadata": {},
          "execution_count": 16
        }
      ]
    },
    {
      "cell_type": "code",
      "source": [
        "# Character Frequency\n",
        "# Count the frequency of each character in the string.\n",
        "\n",
        "def char_count(s):\n",
        "  count = {}\n",
        "  for i in s:\n",
        "    if i in count:\n",
        "      count[i] += 1\n",
        "    else:\n",
        "      count[i] = 1\n",
        "  return count\n",
        "\n",
        "input_string = input(\"Enter your string: \")\n",
        "char_count(input_string)\n"
      ],
      "metadata": {
        "colab": {
          "base_uri": "https://localhost:8080/"
        },
        "id": "4Gjv-znqxnOj",
        "outputId": "60847dda-0a37-49dd-9ed1-bbdeff7cbf35"
      },
      "execution_count": 17,
      "outputs": [
        {
          "name": "stdout",
          "output_type": "stream",
          "text": [
            "Enter your string: khushboo\n"
          ]
        },
        {
          "output_type": "execute_result",
          "data": {
            "text/plain": [
              "{'k': 1, 'h': 2, 'u': 1, 's': 1, 'b': 1, 'o': 2}"
            ]
          },
          "metadata": {},
          "execution_count": 17
        }
      ]
    },
    {
      "cell_type": "code",
      "source": [
        "# Find First Non-Repeating Character\n",
        "# Write a program to find the first non-repeating character in a string.\n",
        "def first_non_repeating_char(s):\n",
        "  for ch in s:\n",
        "    if s.count(ch) == 1:\n",
        "      return ch\n",
        "\n",
        "input_str = input(\"Enter the string: \")\n",
        "first_non_repeating_char(input_str)\n"
      ],
      "metadata": {
        "colab": {
          "base_uri": "https://localhost:8080/",
          "height": 53
        },
        "id": "NQeeuPErJ0Ed",
        "outputId": "c14941ff-80c1-4bd3-c271-6960c4a46db1"
      },
      "execution_count": 18,
      "outputs": [
        {
          "name": "stdout",
          "output_type": "stream",
          "text": [
            "Enter the string: aabssscd\n"
          ]
        },
        {
          "output_type": "execute_result",
          "data": {
            "text/plain": [
              "'b'"
            ],
            "application/vnd.google.colaboratory.intrinsic+json": {
              "type": "string"
            }
          },
          "metadata": {},
          "execution_count": 18
        }
      ]
    },
    {
      "cell_type": "code",
      "source": [
        "# Check Anagram\n",
        "# Write a program to check if two input strings are anagrams (same letters in a different order).\n",
        "\n",
        "def anagrams(a, b):\n",
        "  if sorted(a) == sorted(b):\n",
        "    return True\n",
        "  else:\n",
        "    return False\n",
        "\n",
        "str1 = input(\"Enter first string: \")\n",
        "str2 = input(\"Enter second string: \")\n",
        "anagrams(str1, str2)\n"
      ],
      "metadata": {
        "colab": {
          "base_uri": "https://localhost:8080/"
        },
        "id": "wvzEqeH-Mrzh",
        "outputId": "72dc7d74-09f7-4cf3-f0fe-287ce3b6fa31"
      },
      "execution_count": 20,
      "outputs": [
        {
          "name": "stdout",
          "output_type": "stream",
          "text": [
            "Enter first string: khushboo\n",
            "Enter second string: khush\n"
          ]
        },
        {
          "output_type": "execute_result",
          "data": {
            "text/plain": [
              "False"
            ]
          },
          "metadata": {},
          "execution_count": 20
        }
      ]
    },
    {
      "cell_type": "code",
      "source": [
        "# Capitalize First Letter of Each Word\n",
        "# Implement the .title() method manually using loop or comprehension.\n",
        "\n",
        "string = input(\"Enter your string: \")\n",
        "string = string.title()\n",
        "print(string)\n",
        "\n"
      ],
      "metadata": {
        "colab": {
          "base_uri": "https://localhost:8080/"
        },
        "id": "kNZ1ZRFqN981",
        "outputId": "b4f020aa-85fb-4cb7-bb0d-341109bfd2aa"
      },
      "execution_count": 22,
      "outputs": [
        {
          "output_type": "stream",
          "name": "stdout",
          "text": [
            "Enter your string: hii i am khushboo\n",
            "Hii I Am Khushboo\n"
          ]
        }
      ]
    },
    {
      "cell_type": "code",
      "source": [
        "# Longest Word in a Sentence\n",
        "# Take a sentence input and return the longest word and its length.\n",
        "\n",
        "s = input(\"Enter your sentence: \")\n",
        "words = s.split()\n",
        "longest_word = \"\"\n",
        "max_length = 0\n",
        "for word in words:\n",
        "  if len(word) > max_length:\n",
        "    max_length = len(word)\n",
        "    longest_word = word\n",
        "print(\"Longest word\", longest_word)\n",
        "print(\"Length of longest word\", max_length)\n",
        "\n"
      ],
      "metadata": {
        "colab": {
          "base_uri": "https://localhost:8080/"
        },
        "id": "RlmQhMEaOzrU",
        "outputId": "27bc5388-ec01-4238-c4d6-157e50d10045"
      },
      "execution_count": 23,
      "outputs": [
        {
          "output_type": "stream",
          "name": "stdout",
          "text": [
            "Enter your sentence: Hi, I am khushboo\n",
            "Longest word khushboo\n",
            "Length of longest word 8\n"
          ]
        }
      ]
    },
    {
      "cell_type": "code",
      "source": [
        "# Remove Duplicates\n",
        "# Remove all duplicate characters from a string (keep only first occurrence).\n",
        "\n",
        "s = input(\"Enter string: \")\n",
        "result = \"\"\n",
        "for char in s:\n",
        "  if char not in result:\n",
        "    result += char\n",
        "print(result)"
      ],
      "metadata": {
        "colab": {
          "base_uri": "https://localhost:8080/"
        },
        "id": "g_y2OFpRPo-6",
        "outputId": "65261696-f6b9-46b1-e3d0-da393e800d05"
      },
      "execution_count": 25,
      "outputs": [
        {
          "output_type": "stream",
          "name": "stdout",
          "text": [
            "Enter string: khushboo\n",
            "khusbo\n"
          ]
        }
      ]
    },
    {
      "cell_type": "code",
      "source": [],
      "metadata": {
        "id": "haRAspgZQdUJ"
      },
      "execution_count": null,
      "outputs": []
    }
  ]
}