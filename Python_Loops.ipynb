{
  "nbformat": 4,
  "nbformat_minor": 0,
  "metadata": {
    "colab": {
      "provenance": [],
      "authorship_tag": "ABX9TyMVVqMBujRTUQHcU1j0IHh9",
      "include_colab_link": true
    },
    "kernelspec": {
      "name": "python3",
      "display_name": "Python 3"
    },
    "language_info": {
      "name": "python"
    }
  },
  "cells": [
    {
      "cell_type": "markdown",
      "metadata": {
        "id": "view-in-github",
        "colab_type": "text"
      },
      "source": [
        "<a href=\"https://colab.research.google.com/github/KhushbooChaudhari10/Python_Practice/blob/main/Python_Loops.ipynb\" target=\"_parent\"><img src=\"https://colab.research.google.com/assets/colab-badge.svg\" alt=\"Open In Colab\"/></a>"
      ]
    },
    {
      "cell_type": "code",
      "execution_count": 1,
      "metadata": {
        "colab": {
          "base_uri": "https://localhost:8080/"
        },
        "id": "o-oXEvxKfuHD",
        "outputId": "66cdcca3-b768-4cfc-e466-6baf9a659a3a"
      },
      "outputs": [
        {
          "output_type": "stream",
          "name": "stdout",
          "text": [
            "0\n",
            "1\n",
            "2\n",
            "3\n",
            "4\n",
            "5\n",
            "6\n",
            "7\n",
            "8\n",
            "9\n"
          ]
        }
      ],
      "source": [
        "# Print 1 to 10\n",
        "# Use a for loop to print numbers from 1 to 10.\n",
        "\n",
        "for i in range(10):\n",
        "  print(i)"
      ]
    },
    {
      "cell_type": "code",
      "source": [
        "# Print Even Numbers (1 to 50)\n",
        "# Use a for loop to print only even numbers between 1 and 50.\n",
        "\n",
        "for i in range(50):\n",
        "  if i % 2 == 0:\n",
        "    print(i)"
      ],
      "metadata": {
        "colab": {
          "base_uri": "https://localhost:8080/"
        },
        "id": "QcOsf_qef7n0",
        "outputId": "991fc81c-71fa-42ca-842e-b7396a8e342f"
      },
      "execution_count": 1,
      "outputs": [
        {
          "output_type": "stream",
          "name": "stdout",
          "text": [
            "0\n",
            "2\n",
            "4\n",
            "6\n",
            "8\n",
            "10\n",
            "12\n",
            "14\n",
            "16\n",
            "18\n",
            "20\n",
            "22\n",
            "24\n",
            "26\n",
            "28\n",
            "30\n",
            "32\n",
            "34\n",
            "36\n",
            "38\n",
            "40\n",
            "42\n",
            "44\n",
            "46\n",
            "48\n"
          ]
        }
      ]
    },
    {
      "cell_type": "code",
      "source": [
        "# Sum of First N Natural Numbers\n",
        "# Take n as input and print the sum of numbers from 1 to n.\n",
        "n = int(input(\"Enter a number: \"))\n",
        "sum = 0\n",
        "for i in range(n+1):\n",
        "  sum += i\n",
        "print(sum)"
      ],
      "metadata": {
        "colab": {
          "base_uri": "https://localhost:8080/"
        },
        "id": "EU3GFdRMNFN-",
        "outputId": "4ebabda4-39c7-4261-bbfa-ca17e584252a"
      },
      "execution_count": 2,
      "outputs": [
        {
          "output_type": "stream",
          "name": "stdout",
          "text": [
            "Enter a number: 15\n",
            "120\n"
          ]
        }
      ]
    },
    {
      "cell_type": "code",
      "source": [
        "# Print Each Character of a String\n",
        "# Input: \"Python\"\n",
        "\n",
        "string = \"Python\"\n",
        "for i in string:\n",
        "  print(i)"
      ],
      "metadata": {
        "colab": {
          "base_uri": "https://localhost:8080/"
        },
        "id": "ZbJGi--mNPT-",
        "outputId": "f6e12aba-1c5a-4cec-b662-e52893541d3d"
      },
      "execution_count": 3,
      "outputs": [
        {
          "output_type": "stream",
          "name": "stdout",
          "text": [
            "P\n",
            "y\n",
            "t\n",
            "h\n",
            "o\n",
            "n\n"
          ]
        }
      ]
    },
    {
      "cell_type": "code",
      "source": [
        "# Table of a Number\n",
        "# Take a number as input and print its multiplication table up to 10.\n",
        "\n",
        "n = int(input(\"Enter a number: \"))\n",
        "for i in range(11):\n",
        "  print(n, \"x\", i, \"=\", n*i)\n",
        "\n"
      ],
      "metadata": {
        "colab": {
          "base_uri": "https://localhost:8080/"
        },
        "id": "Pk_eghoQNXeY",
        "outputId": "4254375d-83cc-479b-d4d7-b47149b5a655"
      },
      "execution_count": 4,
      "outputs": [
        {
          "output_type": "stream",
          "name": "stdout",
          "text": [
            "Enter a number: 5\n",
            "5 x 0 = 0\n",
            "5 x 1 = 5\n",
            "5 x 2 = 10\n",
            "5 x 3 = 15\n",
            "5 x 4 = 20\n",
            "5 x 5 = 25\n",
            "5 x 6 = 30\n",
            "5 x 7 = 35\n",
            "5 x 8 = 40\n",
            "5 x 9 = 45\n",
            "5 x 10 = 50\n"
          ]
        }
      ]
    },
    {
      "cell_type": "code",
      "source": [
        "# Print List in Reverse\n",
        "# Given a list, print elements in reverse order using a for loop.\n",
        "\n",
        "l = [1, 2, 3, 4]\n",
        "for i in range(len(l)-1,-1,-1):\n",
        "  print(l[i])"
      ],
      "metadata": {
        "colab": {
          "base_uri": "https://localhost:8080/"
        },
        "id": "C3IDwJmMNpoH",
        "outputId": "10d40d91-d616-4ab8-d8ce-a24836e47646"
      },
      "execution_count": 5,
      "outputs": [
        {
          "output_type": "stream",
          "name": "stdout",
          "text": [
            "4\n",
            "3\n",
            "2\n",
            "1\n"
          ]
        }
      ]
    },
    {
      "cell_type": "code",
      "source": [
        "# Count Vowels in a String\n",
        "# Input a string and count how many vowels it has using a for loop.\n",
        "\n",
        "string = input(\"Enter the string: \")\n",
        "Vowels_count = 0\n",
        "for i in string:\n",
        "  if i in \"aeiouAEIOU\":\n",
        "    Vowels_count += 1\n",
        "print(Vowels_count)"
      ],
      "metadata": {
        "colab": {
          "base_uri": "https://localhost:8080/"
        },
        "id": "xGvjcno9OSHk",
        "outputId": "4903507a-17d9-4ef4-d31e-ab42bc9c4333"
      },
      "execution_count": 6,
      "outputs": [
        {
          "output_type": "stream",
          "name": "stdout",
          "text": [
            "Enter the string: Khushboo\n",
            "3\n"
          ]
        }
      ]
    },
    {
      "cell_type": "code",
      "source": [
        "# Factorial of a Number\n",
        "# Take a number n and calculate n! using a for loop.\n",
        "\n",
        "n = int(input(\"Enter the number: \"))\n",
        "for i in range(1,n):\n",
        "  n *= i\n",
        "print(n)"
      ],
      "metadata": {
        "colab": {
          "base_uri": "https://localhost:8080/"
        },
        "id": "AvC9Zt36QkiE",
        "outputId": "788d7d2a-ce08-47d8-f8dd-4fb94721d5be"
      },
      "execution_count": 9,
      "outputs": [
        {
          "output_type": "stream",
          "name": "stdout",
          "text": [
            "Enter the number: 4\n",
            "24\n"
          ]
        }
      ]
    },
    {
      "cell_type": "code",
      "source": [
        "# Sum of Digits of a Number\n",
        "# Input: 1234 → Output: 1+2+3+4 = 10\n",
        "\n",
        "n = int(input(\"Enter the number: \"))\n",
        "sum = 0\n",
        "while n > 0:\n",
        "  rem = n%10\n",
        "  sum += rem\n",
        "  n //= 10\n",
        "\n",
        "print(sum)"
      ],
      "metadata": {
        "colab": {
          "base_uri": "https://localhost:8080/"
        },
        "id": "GZCvDL9FRFMo",
        "outputId": "e9779c16-ebb1-48bc-c751-4ac731eb22c9"
      },
      "execution_count": 10,
      "outputs": [
        {
          "output_type": "stream",
          "name": "stdout",
          "text": [
            "Enter the number: 1234\n",
            "10\n"
          ]
        }
      ]
    },
    {
      "cell_type": "code",
      "source": [
        "# Fibonacci Series up to n terms\n",
        "# Input: n = 7 → Output: 0 1 1 2 3 5 8\n",
        "\n",
        "n = int(input(\"Enter the number: \"))\n",
        "a = 0\n",
        "b = 1\n",
        "print(a,b,end=\" \")\n",
        "for i in range(2, n):\n",
        "  c = a + b\n",
        "  a = b\n",
        "  b = c\n",
        "  print(c, end=\" \")"
      ],
      "metadata": {
        "colab": {
          "base_uri": "https://localhost:8080/"
        },
        "id": "1stBODW2Sn1_",
        "outputId": "e162d8d3-f7e2-4653-9505-95b49f6e1428"
      },
      "execution_count": 13,
      "outputs": [
        {
          "output_type": "stream",
          "name": "stdout",
          "text": [
            "Enter the number: 5\n",
            "0 1 1 2 3 "
          ]
        }
      ]
    },
    {
      "cell_type": "code",
      "source": [
        "# Prime Numbers in a Range\n",
        "# Take two numbers as input, and print all prime numbers in that range using a for loop.\n",
        "start = int(input(\"Enter the start number: \"))\n",
        "end = int(input(\"Enter the end number: \"))\n",
        "for num in range(start, end+1):\n",
        "  if num > 1:\n",
        "    Is_Prime = True\n",
        "    for i in range(2, num):\n",
        "      if num % i == 0:\n",
        "        Is_Prime = False\n",
        "        break\n",
        "    if Is_Prime:\n",
        "      print(num)"
      ],
      "metadata": {
        "colab": {
          "base_uri": "https://localhost:8080/"
        },
        "id": "E9sPfGt_Ydp6",
        "outputId": "d9df50de-86a2-463a-d1cd-f2c79e7f92fa"
      },
      "execution_count": 8,
      "outputs": [
        {
          "output_type": "stream",
          "name": "stdout",
          "text": [
            "Enter the start number: 5\n",
            "Enter the end number: 12\n",
            "5\n",
            "7\n",
            "11\n"
          ]
        }
      ]
    },
    {
      "cell_type": "code",
      "source": [
        "# Pattern Printing (Right-Angled Triangle)\n",
        "\n",
        "n = int(input(\"Enter the number of rows: \"))\n",
        "for i in range(1, n+1):\n",
        "  print(\"* \" * i)"
      ],
      "metadata": {
        "id": "k9BLmYNz4PQ-"
      },
      "execution_count": 5,
      "outputs": []
    },
    {
      "cell_type": "code",
      "source": [
        "# Nested Loop – Multiplication Table (1 to 5)\n",
        "# Print multiplication tables from 1 to 5 using nested for loops.\n",
        "\n",
        "n1 = 1\n",
        "n2 = 5\n",
        "for i in range(n1, n2+1):\n",
        "  for j in range(1, 11):\n",
        "    print(i, \"x\", j, \"=\", i*j)\n",
        "  print()"
      ],
      "metadata": {
        "colab": {
          "base_uri": "https://localhost:8080/"
        },
        "id": "Lh7NTGEqB2GX",
        "outputId": "e4c2c50e-5947-42fa-9497-32f48ea5be91"
      },
      "execution_count": 14,
      "outputs": [
        {
          "output_type": "stream",
          "name": "stdout",
          "text": [
            "1 x 1 = 1\n",
            "1 x 2 = 2\n",
            "1 x 3 = 3\n",
            "1 x 4 = 4\n",
            "1 x 5 = 5\n",
            "1 x 6 = 6\n",
            "1 x 7 = 7\n",
            "1 x 8 = 8\n",
            "1 x 9 = 9\n",
            "1 x 10 = 10\n",
            "\n",
            "2 x 1 = 2\n",
            "2 x 2 = 4\n",
            "2 x 3 = 6\n",
            "2 x 4 = 8\n",
            "2 x 5 = 10\n",
            "2 x 6 = 12\n",
            "2 x 7 = 14\n",
            "2 x 8 = 16\n",
            "2 x 9 = 18\n",
            "2 x 10 = 20\n",
            "\n",
            "3 x 1 = 3\n",
            "3 x 2 = 6\n",
            "3 x 3 = 9\n",
            "3 x 4 = 12\n",
            "3 x 5 = 15\n",
            "3 x 6 = 18\n",
            "3 x 7 = 21\n",
            "3 x 8 = 24\n",
            "3 x 9 = 27\n",
            "3 x 10 = 30\n",
            "\n",
            "4 x 1 = 4\n",
            "4 x 2 = 8\n",
            "4 x 3 = 12\n",
            "4 x 4 = 16\n",
            "4 x 5 = 20\n",
            "4 x 6 = 24\n",
            "4 x 7 = 28\n",
            "4 x 8 = 32\n",
            "4 x 9 = 36\n",
            "4 x 10 = 40\n",
            "\n",
            "5 x 1 = 5\n",
            "5 x 2 = 10\n",
            "5 x 3 = 15\n",
            "5 x 4 = 20\n",
            "5 x 5 = 25\n",
            "5 x 6 = 30\n",
            "5 x 7 = 35\n",
            "5 x 8 = 40\n",
            "5 x 9 = 45\n",
            "5 x 10 = 50\n",
            "\n"
          ]
        }
      ]
    },
    {
      "cell_type": "code",
      "source": [
        "# Check Palindrome (Reverse a String)\n",
        "# Take a string input and check if it’s a palindrome using a for loop.\n",
        "\n",
        "word = input(\"Enter the word: \")\n",
        "reverse_word = \"\"\n",
        "for i in range(len(word)-1, -1, -1):\n",
        "  reverse_word += word[i]\n",
        "\n",
        "if reverse_word == word:\n",
        "  print(\"Palindrome\")\n",
        "else:\n",
        "  print(\"Not Palindrome\")\n"
      ],
      "metadata": {
        "colab": {
          "base_uri": "https://localhost:8080/"
        },
        "id": "TiVa5PipConw",
        "outputId": "b93a9f72-d54f-4878-8e56-2005eef2003e"
      },
      "execution_count": 16,
      "outputs": [
        {
          "output_type": "stream",
          "name": "stdout",
          "text": [
            "Enter the word: abcba\n",
            "Palindrome\n"
          ]
        }
      ]
    },
    {
      "cell_type": "code",
      "source": [
        "List1 = [10, 20, 50, 25, 30, 5]\n",
        "max_num = List1[0]\n",
        "for i in range(0, len(List1)):\n",
        "  if List1[i] > max_num:\n",
        "    max_num = List1[i]\n",
        "print(max_num)"
      ],
      "metadata": {
        "colab": {
          "base_uri": "https://localhost:8080/"
        },
        "id": "J7YhT5fzFCey",
        "outputId": "2ab27835-6ef8-480f-d3ad-3991b200cb5b"
      },
      "execution_count": 18,
      "outputs": [
        {
          "output_type": "stream",
          "name": "stdout",
          "text": [
            "50\n"
          ]
        }
      ]
    },
    {
      "cell_type": "code",
      "source": [],
      "metadata": {
        "id": "aRwCdbpSFqwm"
      },
      "execution_count": null,
      "outputs": []
    }
  ]
}