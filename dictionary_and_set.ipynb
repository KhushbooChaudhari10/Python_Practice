{
  "nbformat": 4,
  "nbformat_minor": 0,
  "metadata": {
    "colab": {
      "provenance": [],
      "authorship_tag": "ABX9TyNhumqHmb3o2ajSMyrRkJOn",
      "include_colab_link": true
    },
    "kernelspec": {
      "name": "python3",
      "display_name": "Python 3"
    },
    "language_info": {
      "name": "python"
    }
  },
  "cells": [
    {
      "cell_type": "markdown",
      "metadata": {
        "id": "view-in-github",
        "colab_type": "text"
      },
      "source": [
        "<a href=\"https://colab.research.google.com/github/KhushbooChaudhari10/Python_Practice/blob/main/dictionary_and_set.ipynb\" target=\"_parent\"><img src=\"https://colab.research.google.com/assets/colab-badge.svg\" alt=\"Open In Colab\"/></a>"
      ]
    },
    {
      "cell_type": "code",
      "execution_count": 2,
      "metadata": {
        "colab": {
          "base_uri": "https://localhost:8080/"
        },
        "id": "r227f1IV1CSg",
        "outputId": "1b2ff734-4de5-4413-ccb5-a70917ca2e78"
      },
      "outputs": [
        {
          "output_type": "stream",
          "name": "stdout",
          "text": [
            "Enter the number: 3\n",
            "Enter the key: 1\n",
            "Enter the value: apple\n",
            "Enter the key: 2\n",
            "Enter the value: banana\n",
            "Enter the key: 3\n",
            "Enter the value: mango\n",
            "{1: 'apple', 2: 'banana', 3: 'mango'}\n"
          ]
        }
      ],
      "source": [
        "dict1 = {}\n",
        "n = int(input(\"Enter the number: \"))\n",
        "for i in range(n):\n",
        "  key = int(input(\"Enter the key: \"))\n",
        "  value = input(\"Enter the value: \")\n",
        "  dict1[key] = value\n",
        "\n",
        "print(dict1)"
      ]
    },
    {
      "cell_type": "code",
      "source": [
        "# Access value by key\n",
        "# Given a dictionary, take a key as input and print its value.\n",
        "key = int(input(\"Enter the key: \"))\n",
        "print(dict1[key])"
      ],
      "metadata": {
        "id": "qqUn84sh1p5b",
        "colab": {
          "base_uri": "https://localhost:8080/"
        },
        "outputId": "6f66f57c-1587-4363-de47-feec8b137963"
      },
      "execution_count": 6,
      "outputs": [
        {
          "output_type": "stream",
          "name": "stdout",
          "text": [
            "Enter the key: 2\n",
            "banana\n"
          ]
        }
      ]
    },
    {
      "cell_type": "code",
      "source": [
        "# Check if key exists\n",
        "# Ask the user for a key and check if it exists in the dictionary.\n",
        "\n",
        "key = int(input(\"Enter the key: \"))\n",
        "if key in dict1:\n",
        "  print(f\"key exists - {key} : {value}\")\n",
        "else:\n",
        "  print(f\"key does not exists - {key}\")"
      ],
      "metadata": {
        "colab": {
          "base_uri": "https://localhost:8080/"
        },
        "id": "8XZ1n5lQ7g9M",
        "outputId": "826b3142-6376-4058-efa1-e13ea54f820d"
      },
      "execution_count": 9,
      "outputs": [
        {
          "output_type": "stream",
          "name": "stdout",
          "text": [
            "Enter the key: 4\n",
            "key does not exists - 4\n"
          ]
        }
      ]
    },
    {
      "cell_type": "code",
      "source": [
        "# Count frequency of characters in a string\n",
        "# Input: \"banana\"\n",
        "# Output: {'b': 1, 'a': 3, 'n': 2}\n",
        "\n",
        "string = input(\"Enter the string: \")\n",
        "dict1 = {}\n",
        "for i in string:\n",
        "  if i in dict1:\n",
        "    dict1[i] += 1\n",
        "  else:\n",
        "    dict1[i] = 1\n",
        "\n",
        "print(dict1)"
      ],
      "metadata": {
        "colab": {
          "base_uri": "https://localhost:8080/"
        },
        "id": "8Ry1SNOo8ZwV",
        "outputId": "164a94af-43dc-4f24-e19c-3d99e86fe4d5"
      },
      "execution_count": 11,
      "outputs": [
        {
          "output_type": "stream",
          "name": "stdout",
          "text": [
            "Enter the string: khushboo\n",
            "{'k': 1, 'h': 2, 'u': 1, 's': 1, 'b': 1, 'o': 2}\n"
          ]
        }
      ]
    },
    {
      "cell_type": "code",
      "source": [
        "# Merge two dictionaries\n",
        "# Combine:\n",
        "# d1 = {'a': 1, 'b': 2}\n",
        "# d2 = {'c': 3, 'd': 4}\n",
        "\n",
        "dict1 = {}\n",
        "n = int(input(\"Enter the number: \"))\n",
        "for i in range(n):\n",
        "  key = input(\"Enter the key: \")\n",
        "  value = input(\"Enter the value: \")\n",
        "  dict1[key] = value\n",
        "\n",
        "dict2 = {}\n",
        "n = int(input(\"Enter the number: \"))\n",
        "for i in range(n):\n",
        "  key = input(\"Enter the key: \")\n",
        "  value = input(\"Enter the value: \")\n",
        "  dict2[key] = value\n",
        "\n",
        "print(dict1)\n",
        "print(dict2)\n",
        "merge_dict = {**dict1, **dict2}\n",
        "print(merge_dict)"
      ],
      "metadata": {
        "colab": {
          "base_uri": "https://localhost:8080/"
        },
        "id": "Zm9XwQZ0BMeN",
        "outputId": "25515383-bb00-4789-c328-a03fb33026c8"
      },
      "execution_count": 14,
      "outputs": [
        {
          "output_type": "stream",
          "name": "stdout",
          "text": [
            "Enter the number: 2\n",
            "Enter the key: a\n",
            "Enter the value: 1\n",
            "Enter the key: b\n",
            "Enter the value: 2\n",
            "Enter the number: 3\n",
            "Enter the key: c\n",
            "Enter the value: 3\n",
            "Enter the key: d\n",
            "Enter the value: 4\n",
            "Enter the key: e\n",
            "Enter the value: 5\n",
            "{'a': '1', 'b': '2'}\n",
            "{'c': '3', 'd': '4', 'e': '5'}\n",
            "{'a': '1', 'b': '2', 'c': '3', 'd': '4', 'e': '5'}\n"
          ]
        }
      ]
    },
    {
      "cell_type": "code",
      "source": [
        "# Find the key with the maximum value\n",
        "# Example:\n",
        "# d = {'a': 5, 'b': 10, 'c': 3}\n",
        "\n",
        "d = {'a': 5, 'b': 10, 'c': 15}\n",
        "max_value = max(d.values())\n",
        "max_keys = [k for k, v in d.items() if v == max_value]\n",
        "print(max_keys)"
      ],
      "metadata": {
        "colab": {
          "base_uri": "https://localhost:8080/"
        },
        "id": "EmRaeNrOCIXX",
        "outputId": "aef77935-cfd2-45a2-c3b7-023bf6a1c4fd"
      },
      "execution_count": 16,
      "outputs": [
        {
          "output_type": "stream",
          "name": "stdout",
          "text": [
            "['c']\n"
          ]
        }
      ]
    },
    {
      "cell_type": "markdown",
      "source": [
        "set"
      ],
      "metadata": {
        "id": "9jPKLQhbHx5C"
      }
    },
    {
      "cell_type": "code",
      "source": [
        "# Create a Set\n",
        "# Take 5 numbers from the user and store them in a set.\n",
        "\n",
        "set1 = set()\n",
        "n = int(input(\"How many numbers?: \"))\n",
        "for i in range(n):\n",
        "  ele = int(input(\"Enter the number: \"))\n",
        "  set1.add(ele)\n",
        "\n",
        "print(set1)"
      ],
      "metadata": {
        "colab": {
          "base_uri": "https://localhost:8080/"
        },
        "id": "XXHlGhKrH0am",
        "outputId": "49e6c98d-237c-4448-8d44-0cb3a87b0905"
      },
      "execution_count": 21,
      "outputs": [
        {
          "output_type": "stream",
          "name": "stdout",
          "text": [
            "How many numbers?: 4\n",
            "Enter the number: 1\n",
            "Enter the number: 2\n",
            "Enter the number: 3\n",
            "Enter the number: 4\n",
            "{1, 2, 3, 4}\n"
          ]
        }
      ]
    },
    {
      "cell_type": "code",
      "source": [
        "# Add and Remove\n",
        "# Add a number to a set.\n",
        "# Remove a number (if present) from the set.\n",
        "\n",
        "set1.add(11)\n",
        "set1.remove(3)\n",
        "print(set1)"
      ],
      "metadata": {
        "colab": {
          "base_uri": "https://localhost:8080/"
        },
        "id": "ruudkoKiIf0J",
        "outputId": "3ee70aa1-0ab8-45a8-d77d-19852801f1a8"
      },
      "execution_count": 22,
      "outputs": [
        {
          "output_type": "stream",
          "name": "stdout",
          "text": [
            "{1, 2, 4, 11}\n"
          ]
        }
      ]
    },
    {
      "cell_type": "code",
      "source": [
        "# Check Membership\n",
        "# Check if a number is present in a given set.\n",
        "\n",
        "n = int(input(\"Enter the number:\"))\n",
        "if n in set1:\n",
        "  print(True)\n",
        "else:\n",
        "  print(False)"
      ],
      "metadata": {
        "colab": {
          "base_uri": "https://localhost:8080/"
        },
        "id": "vg65YTIKJG9j",
        "outputId": "e0b5582f-c03b-467d-b0e7-7a1d71b45a8d"
      },
      "execution_count": 24,
      "outputs": [
        {
          "output_type": "stream",
          "name": "stdout",
          "text": [
            "Enter the number:12\n",
            "False\n"
          ]
        }
      ]
    },
    {
      "cell_type": "code",
      "source": [
        "# Set Union & Intersection\n",
        "# Input two sets from the user and print:\n",
        "# Union\n",
        "# Intersection\n",
        "# Difference (A - B)\n",
        "\n",
        "set1 = set()\n",
        "set2 = set()\n",
        "n1 = int(input(\"How many numbers in set1?: \"))\n",
        "n2 = int(input(\"How many numbers in set2?: \"))\n",
        "for i in range(n1):\n",
        "  ele = int(input(\"Enter the number: \"))\n",
        "  set1.add(ele)\n",
        "\n",
        "for i in range(n2):\n",
        "  ele = int(input(\"Enter the number: \"))\n",
        "  set2.add(ele)\n",
        "\n",
        "print(set1.union(set2))\n",
        "print(set1.intersection(set2))\n",
        "print(set1.difference(set2))\n",
        "\n"
      ],
      "metadata": {
        "colab": {
          "base_uri": "https://localhost:8080/"
        },
        "id": "ees5RoZCJXD6",
        "outputId": "8c47a715-9e02-49fc-ce98-e280f1c4d07d"
      },
      "execution_count": 26,
      "outputs": [
        {
          "output_type": "stream",
          "name": "stdout",
          "text": [
            "How many numbers in set1?: 4\n",
            "How many numbers in set2?: 4\n",
            "Enter the number: 1\n",
            "Enter the number: 2\n",
            "Enter the number: 3\n",
            "Enter the number: 4\n",
            "Enter the number: 2\n",
            "Enter the number: 5\n",
            "Enter the number: 6\n",
            "Enter the number: 3\n",
            "{1, 2, 3, 4, 5, 6}\n",
            "{2, 3}\n",
            "{1, 4}\n"
          ]
        }
      ]
    },
    {
      "cell_type": "code",
      "source": [
        "# Find Common Elements\n",
        "# Given: A = {1, 2, 3, 4} and B = {3, 4, 5, 6}\n",
        "# Print elements common to both.\n",
        "A = {1, 2, 3, 4}\n",
        "B = {3, 4, 5, 6}\n",
        "print(A.intersection(B))\n"
      ],
      "metadata": {
        "colab": {
          "base_uri": "https://localhost:8080/"
        },
        "id": "JxgbQOukK347",
        "outputId": "26600997-3bc7-4a01-93e0-68cd602ab31e"
      },
      "execution_count": 27,
      "outputs": [
        {
          "output_type": "stream",
          "name": "stdout",
          "text": [
            "{3, 4}\n"
          ]
        }
      ]
    },
    {
      "cell_type": "code",
      "source": [
        "# Remove Duplicates from List\n",
        "# Given a list with duplicate values, convert it to a set to remove duplicates.\n",
        "\n",
        "L1 = [1, 2, 2, 4, 5, 6, 1]\n",
        "print(set(L1))"
      ],
      "metadata": {
        "colab": {
          "base_uri": "https://localhost:8080/"
        },
        "id": "Q1JwDlGgMMvQ",
        "outputId": "491b229c-a930-40ba-c8ac-01f55b659fdf"
      },
      "execution_count": 28,
      "outputs": [
        {
          "output_type": "stream",
          "name": "stdout",
          "text": [
            "{1, 2, 4, 5, 6}\n"
          ]
        }
      ]
    },
    {
      "cell_type": "code",
      "source": [
        "# Set Length\n",
        "# Find the number of elements in a set.\n",
        "\n",
        "A = {1, 2, 3, 4}\n",
        "print(len(A))"
      ],
      "metadata": {
        "colab": {
          "base_uri": "https://localhost:8080/"
        },
        "id": "I4qwET9JPXhh",
        "outputId": "47385cd6-68de-4b94-f38e-faa477864535"
      },
      "execution_count": 1,
      "outputs": [
        {
          "output_type": "stream",
          "name": "stdout",
          "text": [
            "4\n"
          ]
        }
      ]
    },
    {
      "cell_type": "code",
      "source": [
        "# Max & Min in Set\n",
        "# Given a set of numbers, find the maximum and minimum values (using max() and min()).\n",
        "\n",
        "print(max(A))\n",
        "print(min(A))"
      ],
      "metadata": {
        "colab": {
          "base_uri": "https://localhost:8080/"
        },
        "id": "BI59FE7AfaSc",
        "outputId": "44462fae-a7b8-44a4-84c7-6b9ee2da1317"
      },
      "execution_count": 2,
      "outputs": [
        {
          "output_type": "stream",
          "name": "stdout",
          "text": [
            "4\n",
            "1\n"
          ]
        }
      ]
    },
    {
      "cell_type": "code",
      "source": [
        "# Frozen Set\n",
        "# Create a frozenset and try to add an element. What happens?\n",
        "\n",
        "frozen_set = frozenset(A)\n",
        "frozen_set.add(7)\n",
        "\n"
      ],
      "metadata": {
        "colab": {
          "base_uri": "https://localhost:8080/",
          "height": 211
        },
        "id": "OjhXaxWLflHp",
        "outputId": "820f2371-9479-43fa-a057-6db95f3090e2"
      },
      "execution_count": 3,
      "outputs": [
        {
          "output_type": "error",
          "ename": "AttributeError",
          "evalue": "'frozenset' object has no attribute 'add'",
          "traceback": [
            "\u001b[0;31m---------------------------------------------------------------------------\u001b[0m",
            "\u001b[0;31mAttributeError\u001b[0m                            Traceback (most recent call last)",
            "\u001b[0;32m/tmp/ipython-input-3-1235019232.py\u001b[0m in \u001b[0;36m<cell line: 0>\u001b[0;34m()\u001b[0m\n\u001b[1;32m      3\u001b[0m \u001b[0;34m\u001b[0m\u001b[0m\n\u001b[1;32m      4\u001b[0m \u001b[0mfrozen_set\u001b[0m \u001b[0;34m=\u001b[0m \u001b[0mfrozenset\u001b[0m\u001b[0;34m(\u001b[0m\u001b[0mA\u001b[0m\u001b[0;34m)\u001b[0m\u001b[0;34m\u001b[0m\u001b[0;34m\u001b[0m\u001b[0m\n\u001b[0;32m----> 5\u001b[0;31m \u001b[0mfrozen_set\u001b[0m\u001b[0;34m.\u001b[0m\u001b[0madd\u001b[0m\u001b[0;34m(\u001b[0m\u001b[0;36m7\u001b[0m\u001b[0;34m)\u001b[0m\u001b[0;34m\u001b[0m\u001b[0;34m\u001b[0m\u001b[0m\n\u001b[0m\u001b[1;32m      6\u001b[0m \u001b[0;34m\u001b[0m\u001b[0m\n\u001b[1;32m      7\u001b[0m \u001b[0;31m#\u001b[0m\u001b[0;34m\u001b[0m\u001b[0;34m\u001b[0m\u001b[0m\n",
            "\u001b[0;31mAttributeError\u001b[0m: 'frozenset' object has no attribute 'add'"
          ]
        }
      ]
    },
    {
      "cell_type": "code",
      "source": [
        "# Loop Through a Set\n",
        "# Iterate over all elements of a set and print each one.\n",
        "\n",
        "for i in A:\n",
        "  print(i)\n"
      ],
      "metadata": {
        "colab": {
          "base_uri": "https://localhost:8080/"
        },
        "id": "qrjoEs_8f4Y9",
        "outputId": "d9215537-9bdd-4563-c79d-6ebfae4909b1"
      },
      "execution_count": 4,
      "outputs": [
        {
          "output_type": "stream",
          "name": "stdout",
          "text": [
            "1\n",
            "2\n",
            "3\n",
            "4\n"
          ]
        }
      ]
    },
    {
      "cell_type": "code",
      "source": [],
      "metadata": {
        "id": "l9dYorzngD0p"
      },
      "execution_count": null,
      "outputs": []
    }
  ]
}