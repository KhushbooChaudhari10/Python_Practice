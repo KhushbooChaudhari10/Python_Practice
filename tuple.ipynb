{
  "nbformat": 4,
  "nbformat_minor": 0,
  "metadata": {
    "colab": {
      "provenance": [],
      "authorship_tag": "ABX9TyPwDACKIt53PeSwzS3JXlnm",
      "include_colab_link": true
    },
    "kernelspec": {
      "name": "python3",
      "display_name": "Python 3"
    },
    "language_info": {
      "name": "python"
    }
  },
  "cells": [
    {
      "cell_type": "markdown",
      "metadata": {
        "id": "view-in-github",
        "colab_type": "text"
      },
      "source": [
        "<a href=\"https://colab.research.google.com/github/KhushbooChaudhari10/Python_Practice/blob/main/tuple.ipynb\" target=\"_parent\"><img src=\"https://colab.research.google.com/assets/colab-badge.svg\" alt=\"Open In Colab\"/></a>"
      ]
    },
    {
      "cell_type": "code",
      "execution_count": 5,
      "metadata": {
        "colab": {
          "base_uri": "https://localhost:8080/"
        },
        "id": "b-NvhQO6LOZo",
        "outputId": "c99222d5-25da-45fd-be1a-cb075cfb24ae"
      },
      "outputs": [
        {
          "output_type": "stream",
          "name": "stdout",
          "text": [
            "Enter the number of elements: 4\n",
            "Enter the number:2\n",
            "Enter the number:3\n",
            "Enter the number:4\n",
            "Enter the number:5\n",
            "(2, 3, 4, 5)\n"
          ]
        }
      ],
      "source": [
        "# Create a Tuple\n",
        "\n",
        "# Take n numbers as input and store them in a tuple.\n",
        "\n",
        "# Example: (1, 2, 3, 4)\n",
        "\n",
        "n = int(input(\"Enter the number of elements: \"))\n",
        "ele = []\n",
        "for i in range(n):\n",
        "  num = int(input(\"Enter the number:\"))\n",
        "  ele.append(num)\n",
        "\n",
        "my_tuple = tuple(ele)\n",
        "print(my_tuple)"
      ]
    },
    {
      "cell_type": "code",
      "source": [
        "# Access Elements by Index\n",
        "# Print the first, last, and middle element of a tuple.\n",
        "\n",
        "print(my_tuple[0])\n",
        "print(my_tuple[-1])\n",
        "print(my_tuple[n//2])"
      ],
      "metadata": {
        "colab": {
          "base_uri": "https://localhost:8080/"
        },
        "id": "-du1HkBl4Ka1",
        "outputId": "c2cc10d7-e86b-4131-9e37-f4f05cae9d77"
      },
      "execution_count": 6,
      "outputs": [
        {
          "output_type": "stream",
          "name": "stdout",
          "text": [
            "2\n",
            "5\n",
            "4\n"
          ]
        }
      ]
    },
    {
      "cell_type": "code",
      "source": [
        "# Count Occurrence of Element\n",
        "# Count how many times a value (like 5) appears in a tuple.\n",
        "def count_val(my_tuple):\n",
        "  value = int(input(\"Enter the value to search: \"))\n",
        "  count = 0\n",
        "  for i in my_tuple:\n",
        "    if i == value:\n",
        "      count += 1\n",
        "  return count\n",
        "\n",
        "x = (1, 2, 4, 3, 4, 5, 3)\n",
        "count_val(x)"
      ],
      "metadata": {
        "colab": {
          "base_uri": "https://localhost:8080/"
        },
        "id": "k7tTpTId8q5Z",
        "outputId": "6c6d142c-5d2b-4a75-ad13-ad46460bdf05"
      },
      "execution_count": 11,
      "outputs": [
        {
          "name": "stdout",
          "output_type": "stream",
          "text": [
            "Enter the value to search: 3\n"
          ]
        },
        {
          "output_type": "execute_result",
          "data": {
            "text/plain": [
              "2"
            ]
          },
          "metadata": {},
          "execution_count": 11
        }
      ]
    },
    {
      "cell_type": "code",
      "source": [
        "# Check if an Element Exists\n",
        "# Input a number from the user and check if it exists in the tuple.\n",
        "def ele_exists(my_tuple):\n",
        "  value = int(input(\"Enter the value to search: \"))\n",
        "  for i in my_tuple:\n",
        "    if i == value:\n",
        "      return True\n",
        "  return False\n",
        "\n",
        "x = (1, 2, 4, 3, 4, 5, 3)\n",
        "ele_exists(x)"
      ],
      "metadata": {
        "colab": {
          "base_uri": "https://localhost:8080/"
        },
        "id": "ucfgfeJ49KP-",
        "outputId": "83a3acd9-3b9b-452f-c66c-560e3ef88102"
      },
      "execution_count": 12,
      "outputs": [
        {
          "name": "stdout",
          "output_type": "stream",
          "text": [
            "Enter the value to search: 3\n"
          ]
        },
        {
          "output_type": "execute_result",
          "data": {
            "text/plain": [
              "True"
            ]
          },
          "metadata": {},
          "execution_count": 12
        }
      ]
    },
    {
      "cell_type": "code",
      "source": [
        "# Length of Tuple\n",
        "# Find and print the total number of elements in a tuple.\n",
        "print(len(x))\n"
      ],
      "metadata": {
        "colab": {
          "base_uri": "https://localhost:8080/"
        },
        "id": "tYnTDdp1-p3a",
        "outputId": "73a64220-63ed-4e88-cde8-0b1732be20fd"
      },
      "execution_count": 13,
      "outputs": [
        {
          "output_type": "stream",
          "name": "stdout",
          "text": [
            "7\n"
          ]
        }
      ]
    },
    {
      "cell_type": "code",
      "source": [
        "# Find Index of Element\n",
        "# Input a value and find its index in the tuple (first occurrence).\n",
        "\n",
        "value = int(input(\"Enter the number\"))\n",
        "x = (1, 2, 4, 3, 4, 5, 3)\n",
        "found = False\n",
        "for i in range(len(x)):\n",
        "  if x[i] == value:\n",
        "    print(i)\n",
        "    found = True\n",
        "\n",
        "if not found:\n",
        "  print(\"Not found\")"
      ],
      "metadata": {
        "colab": {
          "base_uri": "https://localhost:8080/"
        },
        "id": "HSM9-xuJ_qkC",
        "outputId": "2c212d64-3f54-4f0a-eb3c-89b356222fb4"
      },
      "execution_count": 17,
      "outputs": [
        {
          "output_type": "stream",
          "name": "stdout",
          "text": [
            "Enter the number8\n",
            "Not found\n"
          ]
        }
      ]
    },
    {
      "cell_type": "code",
      "source": [
        "# Convert List to Tuple\n",
        "# Input a list from the user and convert it into a tuple.\n",
        "\n",
        "n = int(input(\"Enter the number of elements: \"))\n",
        "list1 = []\n",
        "for i in range(n):\n",
        "  num = int(input(\"Enter the number: \"))\n",
        "  list1.append(num)\n",
        "print(list1)\n",
        "tuple1 = tuple(list1)\n",
        "print(tuple1)"
      ],
      "metadata": {
        "colab": {
          "base_uri": "https://localhost:8080/"
        },
        "id": "YVwEAAYcAgkN",
        "outputId": "41cceaad-3f68-45e5-f1dd-ac899eeb88d7"
      },
      "execution_count": 19,
      "outputs": [
        {
          "output_type": "stream",
          "name": "stdout",
          "text": [
            "Enter the number of elements: 4\n",
            "Enter the number: 5\n",
            "Enter the number: 10\n",
            "Enter the number: 2\n",
            "Enter the number: 5\n",
            "[5, 10, 2, 5]\n",
            "(5, 10, 2, 5)\n"
          ]
        }
      ]
    },
    {
      "cell_type": "code",
      "source": [
        "# Concatenate Two Tuples\n",
        "# Merge two tuples and print the result.\n",
        "\n",
        "tuple1 = (1, 2, 3)\n",
        "tuple2 = (4, 5, 6)\n",
        "tuple3 = tuple1 + tuple2\n",
        "print(tuple3)"
      ],
      "metadata": {
        "colab": {
          "base_uri": "https://localhost:8080/"
        },
        "id": "Kj7LMRsSCEVx",
        "outputId": "64eb2030-db86-43ac-f5bf-4a87fea953cd"
      },
      "execution_count": 20,
      "outputs": [
        {
          "output_type": "stream",
          "name": "stdout",
          "text": [
            "(1, 2, 3, 4, 5, 6)\n"
          ]
        }
      ]
    },
    {
      "cell_type": "code",
      "source": [
        "# Slice a Tuple\n",
        "# Print the first 3 and last 3 elements using slicing.\n",
        "\n",
        "tuple1 = (1, 2, 3, 4, 5 ,6)\n",
        "print(tuple1[:3])\n",
        "print(tuple1[-3:])"
      ],
      "metadata": {
        "colab": {
          "base_uri": "https://localhost:8080/"
        },
        "id": "wYOBv8hID6mj",
        "outputId": "7ea50377-2cfb-4c07-90b0-07cdc8e0cb28"
      },
      "execution_count": 24,
      "outputs": [
        {
          "output_type": "stream",
          "name": "stdout",
          "text": [
            "(1, 2, 3)\n",
            "(4, 5, 6)\n"
          ]
        }
      ]
    },
    {
      "cell_type": "code",
      "source": [
        "# Tuple with Mixed Data Types\n",
        "# Create a tuple with integers, strings, and float. Print each using a loop.\n",
        "\n",
        "tuple1 = (1, 2, 3, \"hello\", 4.5, True)\n",
        "for i in tuple1:\n",
        "  print(i)\n"
      ],
      "metadata": {
        "colab": {
          "base_uri": "https://localhost:8080/"
        },
        "id": "-TjkqVc0EFRF",
        "outputId": "22525cef-b9ce-47bd-83da-261047f0d3d4"
      },
      "execution_count": 25,
      "outputs": [
        {
          "output_type": "stream",
          "name": "stdout",
          "text": [
            "1\n",
            "2\n",
            "3\n",
            "hello\n",
            "4.5\n",
            "True\n"
          ]
        }
      ]
    },
    {
      "cell_type": "code",
      "source": [
        "# Swap Two Tuples\n",
        "# Swap the contents of two tuples.\n",
        "\n",
        "tuple1 = (1, 2, 3)\n",
        "tuple2 = (4, 5, 6)\n",
        "tuple1, tuple2 = tuple2, tuple1\n",
        "print(tuple1)\n",
        "print(tuple2)"
      ],
      "metadata": {
        "colab": {
          "base_uri": "https://localhost:8080/"
        },
        "id": "X3t76piPILE5",
        "outputId": "b99c4ebd-64ed-4283-a55d-e1d256a97d86"
      },
      "execution_count": 26,
      "outputs": [
        {
          "output_type": "stream",
          "name": "stdout",
          "text": [
            "(4, 5, 6)\n",
            "(1, 2, 3)\n"
          ]
        }
      ]
    },
    {
      "cell_type": "code",
      "source": [
        "# Nested Tuple Access\n",
        "# Access elements inside a nested tuple:\n",
        "# t = (1, 2, (3, 4, 5), 6) → Print 4\n",
        "\n",
        "t = (1, 2, (3, 4, 5), 6)\n",
        "print(t[2][1])\n",
        "\n"
      ],
      "metadata": {
        "colab": {
          "base_uri": "https://localhost:8080/"
        },
        "id": "Mle6c-ouIjJV",
        "outputId": "0b99c7d5-501d-4dc2-adef-248d79391b71"
      },
      "execution_count": 27,
      "outputs": [
        {
          "output_type": "stream",
          "name": "stdout",
          "text": [
            "4\n"
          ]
        }
      ]
    },
    {
      "cell_type": "code",
      "source": [
        "# Convert Tuple to String\n",
        "# Input: ('h', 'e', 'l', 'l', 'o') → Output: \"hello\"\n",
        "\n",
        "tuple1 = ('h', 'e', 'l', 'l', 'o')\n",
        "str1 = \"\"\n",
        "for i in tuple1:\n",
        "  str1 += i\n",
        "print(str1)\n"
      ],
      "metadata": {
        "colab": {
          "base_uri": "https://localhost:8080/"
        },
        "id": "EtPsbeCLJF2d",
        "outputId": "28c58129-595d-4573-f433-a84170f4e793"
      },
      "execution_count": 28,
      "outputs": [
        {
          "output_type": "stream",
          "name": "stdout",
          "text": [
            "hello\n"
          ]
        }
      ]
    },
    {
      "cell_type": "code",
      "source": [
        "# Find Max and Min from Tuple\n",
        "# Find the maximum and minimum number from a tuple of integers.\n",
        "\n",
        "tuple1  = (10, 20, 15, 3)\n",
        "max_ele = 0\n",
        "min_ele = 0\n",
        "\n",
        "for i in tuple1:\n",
        "  if i > max_ele:\n",
        "    max_ele = i\n",
        "  else:\n",
        "    min_ele = i\n",
        "\n",
        "print(max_ele)\n",
        "print(min_ele)"
      ],
      "metadata": {
        "colab": {
          "base_uri": "https://localhost:8080/"
        },
        "id": "b19UAcNEJSuI",
        "outputId": "42098117-20af-423e-de3e-b941ecadd69c"
      },
      "execution_count": 30,
      "outputs": [
        {
          "output_type": "stream",
          "name": "stdout",
          "text": [
            "20\n",
            "3\n"
          ]
        }
      ]
    },
    {
      "cell_type": "code",
      "source": [
        "# Repeat Tuple N Times\n",
        "# Input a tuple and number n, print the tuple repeated n times.\n",
        "\n",
        "tuple1 = (1, 2, 3)\n",
        "n = int(input(\"Enter the number: \"))\n",
        "print((tuple1) * n)\n",
        "\n"
      ],
      "metadata": {
        "colab": {
          "base_uri": "https://localhost:8080/"
        },
        "id": "fQGjccWoKL1G",
        "outputId": "85af96d5-8609-465f-8a26-3a1a9194d8da"
      },
      "execution_count": 32,
      "outputs": [
        {
          "output_type": "stream",
          "name": "stdout",
          "text": [
            "Enter the number: 4\n",
            "(1, 2, 3, 1, 2, 3, 1, 2, 3, 1, 2, 3)\n"
          ]
        }
      ]
    },
    {
      "cell_type": "code",
      "source": [],
      "metadata": {
        "id": "VEj4jk2uKfWo"
      },
      "execution_count": null,
      "outputs": []
    }
  ]
}