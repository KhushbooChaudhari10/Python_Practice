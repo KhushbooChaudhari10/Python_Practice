{
  "nbformat": 4,
  "nbformat_minor": 0,
  "metadata": {
    "colab": {
      "provenance": [],
      "authorship_tag": "ABX9TyOZy/cBSua4mzFny61wVkCE",
      "include_colab_link": true
    },
    "kernelspec": {
      "name": "python3",
      "display_name": "Python 3"
    },
    "language_info": {
      "name": "python"
    }
  },
  "cells": [
    {
      "cell_type": "markdown",
      "metadata": {
        "id": "view-in-github",
        "colab_type": "text"
      },
      "source": [
        "<a href=\"https://colab.research.google.com/github/KhushbooChaudhari10/Python_Practice/blob/main/Python_functions.ipynb\" target=\"_parent\"><img src=\"https://colab.research.google.com/assets/colab-badge.svg\" alt=\"Open In Colab\"/></a>"
      ]
    },
    {
      "cell_type": "code",
      "execution_count": null,
      "metadata": {
        "colab": {
          "base_uri": "https://localhost:8080/"
        },
        "id": "yn11s8X0HxE6",
        "outputId": "eb189864-c3fe-489c-8165-1948f8cfa1a1"
      },
      "outputs": [
        {
          "output_type": "stream",
          "name": "stdout",
          "text": [
            "Hell0 Welcome!\n",
            "Hell0 Welcome!\n"
          ]
        }
      ],
      "source": [
        "# Simple Function Call\n",
        "# Write a function greet() that prints \"Hello, welcome!\" and call it.\n",
        "\n",
        "def greet():\n",
        "  print(\"Hell0 Welcome!\")\n",
        "\n",
        "greet()\n",
        "greet()"
      ]
    },
    {
      "cell_type": "code",
      "source": [],
      "metadata": {
        "id": "gewFgt6wSu4r"
      },
      "execution_count": null,
      "outputs": []
    },
    {
      "cell_type": "code",
      "source": [
        "# Function with Arguments\n",
        "# Write a function add(a, b) that returns the sum of two numbers. Take input from the user and print the result.\n",
        "def add(c, d):\n",
        "  return c + d\n",
        "var1 = int(input(\"Enter first number: \"))\n",
        "var2 = int(input(\"Enter second number: \"))\n",
        "print(add(var1, var2))\n"
      ],
      "metadata": {
        "colab": {
          "base_uri": "https://localhost:8080/"
        },
        "id": "re_EHda0ICXG",
        "outputId": "30704f93-5ec6-42d4-e35d-b11965ecaeef"
      },
      "execution_count": null,
      "outputs": [
        {
          "output_type": "stream",
          "name": "stdout",
          "text": [
            "Enter first number: 2\n",
            "Enter second number: 3\n",
            "5\n"
          ]
        }
      ]
    },
    {
      "cell_type": "code",
      "source": [
        "# Even or Odd Checker\n",
        "# Define a function is_even(n) that checks whether a number is even or odd.\n",
        "\n",
        "def is_even(n):\n",
        "  if n % 2 == 0:\n",
        "    return True\n",
        "  else:\n",
        "    return False\n",
        "num = int(input(\"Enter a number: \"))\n",
        "print(is_even(num))"
      ],
      "metadata": {
        "colab": {
          "base_uri": "https://localhost:8080/"
        },
        "id": "zSEDqVILJIi_",
        "outputId": "feb3a8e0-8d94-4a5e-887b-714eae55deda"
      },
      "execution_count": null,
      "outputs": [
        {
          "output_type": "stream",
          "name": "stdout",
          "text": [
            "Enter a number: 4\n",
            "True\n"
          ]
        }
      ]
    },
    {
      "cell_type": "code",
      "source": [
        "# Factorial Function\n",
        "# Write a function factorial(n) that returns the factorial of a number using a loop (no recursion).\n",
        "\n",
        "def factorial(n):\n",
        "  fact = 1\n",
        "  for i in range(1, n+1):\n",
        "    fact *= i\n",
        "  return fact\n",
        "# n = int(input(\"Enter a number: \"))\n",
        "# print(factorial(n))"
      ],
      "metadata": {
        "id": "YR-6UfTTMuLZ"
      },
      "execution_count": null,
      "outputs": []
    },
    {
      "cell_type": "code",
      "source": [
        "factorial(5)"
      ],
      "metadata": {
        "colab": {
          "base_uri": "https://localhost:8080/"
        },
        "id": "Ij1CBEKstASw",
        "outputId": "5c748314-62e4-4cbd-ba95-a88f7b6d53bd"
      },
      "execution_count": null,
      "outputs": [
        {
          "output_type": "execute_result",
          "data": {
            "text/plain": [
              "120"
            ]
          },
          "metadata": {},
          "execution_count": 11
        }
      ]
    },
    {
      "cell_type": "code",
      "source": [
        "# Maximum of Three Numbers\n",
        "# Write a function maximum(a, b, c) that returns the largest of three numbers.\n",
        "def maximum(a, b, c):\n",
        "  if a > b and a > c:\n",
        "    return a\n",
        "  elif b > a and b > c:\n",
        "    return b\n",
        "  else:\n",
        "    return c\n",
        "\n",
        "maximum(5, 10, 4)"
      ],
      "metadata": {
        "colab": {
          "base_uri": "https://localhost:8080/"
        },
        "id": "HG5-U4ytx3hA",
        "outputId": "4e05cf25-11fc-4e60-b250-04149ad20939"
      },
      "execution_count": null,
      "outputs": [
        {
          "output_type": "execute_result",
          "data": {
            "text/plain": [
              "10"
            ]
          },
          "metadata": {},
          "execution_count": 8
        }
      ]
    },
    {
      "cell_type": "code",
      "source": [
        "# Palindrome Checker (Function-based)\n",
        "# Write a function is_palindrome(s) that returns True if the string is a palindrome, False otherwise.\n",
        "\n",
        "def is_palindrome(s):\n",
        "  reversed_string = \"\"\n",
        "  for i in range(len(s) -1, -1, -1):\n",
        "    reversed_string += s[i]\n",
        "  if reversed_string == s:\n",
        "    return True\n",
        "  else:\n",
        "    return False\n",
        "\n",
        "#s = input(\"Enter a string: \")\n",
        "print(is_palindrome(\"abcba\"))\n"
      ],
      "metadata": {
        "colab": {
          "base_uri": "https://localhost:8080/"
        },
        "id": "DBobhp_fy8pO",
        "outputId": "09d78e05-f2ad-424c-db99-76347fdfc40e"
      },
      "execution_count": null,
      "outputs": [
        {
          "output_type": "stream",
          "name": "stdout",
          "text": [
            "True\n"
          ]
        },
        {
          "output_type": "execute_result",
          "data": {
            "text/plain": [
              "5"
            ]
          },
          "metadata": {},
          "execution_count": 12
        }
      ]
    },
    {
      "cell_type": "code",
      "source": [
        "# Prime Number Checker\n",
        "# Write a function is_prime(n) that returns True if the number is prime, False otherwise.\n",
        "\n",
        "def is_prime(n):\n",
        "  for i in range(2, n):\n",
        "    if n % i == 0:\n",
        "      return False\n",
        "  return True\n",
        "\n",
        "n = int(input(\"Enter a number: \"))\n",
        "print(is_prime(n))"
      ],
      "metadata": {
        "colab": {
          "base_uri": "https://localhost:8080/"
        },
        "id": "MB-s8oRpze7g",
        "outputId": "ba9db330-1361-4f89-843d-c5b2a73aedf8"
      },
      "execution_count": null,
      "outputs": [
        {
          "output_type": "stream",
          "name": "stdout",
          "text": [
            "Enter a number: 6\n",
            "False\n"
          ]
        }
      ]
    },
    {
      "cell_type": "code",
      "source": [
        "# Table Printer\n",
        "# Write a function print_table(n) that prints the multiplication table of a number up to 10.\n",
        "\n",
        "def print_table(n):\n",
        "  for i in range(1, 11):\n",
        "    print(f\"{n} X {i} = {n * i}\")\n",
        "\n",
        "print_table(5)"
      ],
      "metadata": {
        "colab": {
          "base_uri": "https://localhost:8080/"
        },
        "id": "pFutYoKO1DNR",
        "outputId": "31d86478-7a73-4192-d564-d2e2d41878b2"
      },
      "execution_count": null,
      "outputs": [
        {
          "output_type": "stream",
          "name": "stdout",
          "text": [
            "5 X 1 = 5\n",
            "5 X 2 = 10\n",
            "5 X 3 = 15\n",
            "5 X 4 = 20\n",
            "5 X 5 = 25\n",
            "5 X 6 = 30\n",
            "5 X 7 = 35\n",
            "5 X 8 = 40\n",
            "5 X 9 = 45\n",
            "5 X 10 = 50\n"
          ]
        }
      ]
    },
    {
      "cell_type": "code",
      "source": [
        "# String Reverser\n",
        "# Write a function reverse_string(s) that takes a string and returns it reversed.\n",
        "\n",
        "def reverse_string(s):\n",
        "  reverse_string = \"\"\n",
        "  for i in range(len(s) - 1, -1, -1):\n",
        "    reverse_string += s[i]\n",
        "  return reverse_string\n",
        "\n",
        "s = input(\"Enter a string: \")\n",
        "print(reverse_string(s))"
      ],
      "metadata": {
        "colab": {
          "base_uri": "https://localhost:8080/"
        },
        "id": "obA5Ra6m2Wg3",
        "outputId": "c646b0af-2138-4efd-afa6-4acc7247688c"
      },
      "execution_count": null,
      "outputs": [
        {
          "output_type": "stream",
          "name": "stdout",
          "text": [
            "Enter a string: khush\n",
            "hsuhk\n"
          ]
        }
      ]
    },
    {
      "cell_type": "code",
      "source": [
        "# Count Vowels\n",
        "# Write a function count_vowels(s) that counts and returns the number of vowels in the given string.\n",
        "def count_vowels(s):\n",
        "  count = 0\n",
        "  vowels = \"aeoiuAEOUI\"\n",
        "  for i in s:\n",
        "    if i in vowels:\n",
        "      count += 1\n",
        "  return count\n",
        "\n",
        "s = input(\"Enter the string: \")\n",
        "print(count_vowels(s))"
      ],
      "metadata": {
        "colab": {
          "base_uri": "https://localhost:8080/"
        },
        "id": "2g5qh1Sc5gy_",
        "outputId": "441e1be5-c109-4e0c-baa2-31a31f396d41"
      },
      "execution_count": null,
      "outputs": [
        {
          "output_type": "stream",
          "name": "stdout",
          "text": [
            "Enter the string: khushboo\n",
            "3\n"
          ]
        }
      ]
    },
    {
      "cell_type": "code",
      "source": [
        "var1 = int(input(\"Enter first number: \"))\n",
        "var2 = int(input(\"Enter second number: \"))\n",
        "sum1 = add(var1, var2)\n",
        "print(sum1)\n",
        "factorial(sum1)"
      ],
      "metadata": {
        "id": "ermD6KGS7cH0",
        "colab": {
          "base_uri": "https://localhost:8080/"
        },
        "outputId": "cc5e541c-4947-48f1-e337-0ad008ca7f68"
      },
      "execution_count": null,
      "outputs": [
        {
          "output_type": "stream",
          "name": "stdout",
          "text": [
            "Enter first number: 2\n",
            "Enter second number: 3\n",
            "5\n"
          ]
        },
        {
          "output_type": "execute_result",
          "data": {
            "text/plain": [
              "120"
            ]
          },
          "metadata": {},
          "execution_count": 14
        }
      ]
    },
    {
      "cell_type": "code",
      "source": [
        "def var(x = 10):\n",
        "  return x\n",
        "\n",
        "y = int(input(\"Enter a number: \"))\n",
        "var(y)"
      ],
      "metadata": {
        "id": "JVOFzwkoe8G7",
        "colab": {
          "base_uri": "https://localhost:8080/"
        },
        "outputId": "e8dead90-ba61-4322-86a8-6919b31d99c3"
      },
      "execution_count": null,
      "outputs": [
        {
          "name": "stdout",
          "output_type": "stream",
          "text": [
            "Enter a number: 5\n"
          ]
        },
        {
          "output_type": "execute_result",
          "data": {
            "text/plain": [
              "5"
            ]
          },
          "metadata": {},
          "execution_count": 18
        }
      ]
    },
    {
      "cell_type": "code",
      "source": [
        "count = 0\n",
        "def increment():\n",
        "  print(\"Coubt is: \", count)\n",
        "\n",
        "increment()"
      ],
      "metadata": {
        "colab": {
          "base_uri": "https://localhost:8080/"
        },
        "id": "BV_vwxuZqwaA",
        "outputId": "866c381d-a271-4adb-974b-ce0260abd3e7"
      },
      "execution_count": 1,
      "outputs": [
        {
          "output_type": "stream",
          "name": "stdout",
          "text": [
            "Coubt is:  0\n"
          ]
        }
      ]
    },
    {
      "cell_type": "code",
      "source": [
        "total = 100\n",
        "def global_increment(t):\n",
        "  # global total\n",
        "  t += 10\n",
        "  return t\n",
        "\n",
        "total = global_increment(total)\n",
        "print(total)\n"
      ],
      "metadata": {
        "id": "7y8j1a-Lrb4z",
        "colab": {
          "base_uri": "https://localhost:8080/"
        },
        "outputId": "2c3a7e2a-7026-4e6f-89b0-959b36bc4630"
      },
      "execution_count": 29,
      "outputs": [
        {
          "output_type": "stream",
          "name": "stdout",
          "text": [
            "110\n"
          ]
        }
      ]
    },
    {
      "cell_type": "code",
      "source": [
        "x = 5\n",
        "def l_vs_g(x = 10):\n",
        "  return x\n",
        "\n",
        "print(x)\n",
        "y = 30\n",
        "l_vs_g(y)"
      ],
      "metadata": {
        "colab": {
          "base_uri": "https://localhost:8080/"
        },
        "id": "2T04yiY_B7Xg",
        "outputId": "a10235d7-6ea7-4c01-9e6f-c0e86707ef24"
      },
      "execution_count": 6,
      "outputs": [
        {
          "output_type": "stream",
          "name": "stdout",
          "text": [
            "5\n"
          ]
        },
        {
          "output_type": "execute_result",
          "data": {
            "text/plain": [
              "30"
            ]
          },
          "metadata": {},
          "execution_count": 6
        }
      ]
    },
    {
      "cell_type": "code",
      "source": [
        "counter = 0\n",
        "def count_increment():\n",
        "  global counter\n",
        "  counter += 1\n",
        "  return counter\n",
        "\n",
        "count_increment()\n",
        "count_increment()\n",
        "count_increment()"
      ],
      "metadata": {
        "colab": {
          "base_uri": "https://localhost:8080/"
        },
        "id": "Ep1x23VVCKli",
        "outputId": "8ae1f231-ebdf-4229-97be-10df531de078"
      },
      "execution_count": 9,
      "outputs": [
        {
          "output_type": "execute_result",
          "data": {
            "text/plain": [
              "3"
            ]
          },
          "metadata": {},
          "execution_count": 9
        }
      ]
    },
    {
      "cell_type": "code",
      "source": [
        "def outer():\n",
        "  msg = \"Hello\"\n",
        "  def inner():\n",
        "    print(msg)\n",
        "  inner()\n",
        "\n",
        "outer()\n",
        "\n"
      ],
      "metadata": {
        "colab": {
          "base_uri": "https://localhost:8080/"
        },
        "id": "WjPXxtxUC6j4",
        "outputId": "890385c5-f42d-4baf-e49c-b4ae34a98a8b"
      },
      "execution_count": 14,
      "outputs": [
        {
          "output_type": "stream",
          "name": "stdout",
          "text": [
            "Hello\n"
          ]
        }
      ]
    },
    {
      "cell_type": "code",
      "source": [
        "score = 0\n",
        "def increase():\n",
        "  global score\n",
        "  score += 10\n",
        "  return score\n",
        "\n",
        "def decrease():\n",
        "  global score\n",
        "  score -= 10\n",
        "  return score\n",
        "\n",
        "increase()\n",
        "increase()\n",
        "decrease()\n",
        "increase()\n"
      ],
      "metadata": {
        "colab": {
          "base_uri": "https://localhost:8080/"
        },
        "id": "KClZCH2YDQ0B",
        "outputId": "2c796cce-2a59-436a-f8a2-8bffff0b1f80"
      },
      "execution_count": 18,
      "outputs": [
        {
          "output_type": "execute_result",
          "data": {
            "text/plain": [
              "20"
            ]
          },
          "metadata": {},
          "execution_count": 18
        }
      ]
    },
    {
      "cell_type": "code",
      "source": [
        "debug_mode = False\n",
        "def toggle_debug():\n",
        "  global debug_mode\n",
        "  debug_mode = True\n",
        "  return debug_mode\n",
        "\n",
        "print(debug_mode)\n",
        "toggle_debug()"
      ],
      "metadata": {
        "colab": {
          "base_uri": "https://localhost:8080/"
        },
        "id": "TKB4W86GFIMF",
        "outputId": "91ffed42-b035-4865-bcb0-a3f24bc89b0b"
      },
      "execution_count": 21,
      "outputs": [
        {
          "output_type": "stream",
          "name": "stdout",
          "text": [
            "False\n"
          ]
        },
        {
          "output_type": "execute_result",
          "data": {
            "text/plain": [
              "True"
            ]
          },
          "metadata": {},
          "execution_count": 21
        }
      ]
    },
    {
      "cell_type": "code",
      "source": [],
      "metadata": {
        "id": "rifJF3IQFt9H"
      },
      "execution_count": null,
      "outputs": []
    }
  ]
}