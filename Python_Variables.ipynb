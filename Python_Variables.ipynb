{
  "nbformat": 4,
  "nbformat_minor": 0,
  "metadata": {
    "colab": {
      "provenance": [],
      "authorship_tag": "ABX9TyOcSlkQr/9dhzuAW83VqFb9",
      "include_colab_link": true
    },
    "kernelspec": {
      "name": "python3",
      "display_name": "Python 3"
    },
    "language_info": {
      "name": "python"
    }
  },
  "cells": [
    {
      "cell_type": "markdown",
      "metadata": {
        "id": "view-in-github",
        "colab_type": "text"
      },
      "source": [
        "<a href=\"https://colab.research.google.com/github/KhushbooChaudhari10/Python_Practice/blob/main/Python_Variables.ipynb\" target=\"_parent\"><img src=\"https://colab.research.google.com/assets/colab-badge.svg\" alt=\"Open In Colab\"/></a>"
      ]
    },
    {
      "cell_type": "code",
      "execution_count": null,
      "metadata": {
        "colab": {
          "base_uri": "https://localhost:8080/"
        },
        "id": "hFRrLEY045ZK",
        "outputId": "0cc0e01b-bc26-424c-a28d-a430271ab84d"
      },
      "outputs": [
        {
          "output_type": "stream",
          "name": "stdout",
          "text": [
            "<class 'int'>\n",
            "<class 'float'>\n",
            "<class 'str'>\n",
            "<class 'complex'>\n"
          ]
        }
      ],
      "source": [
        "#Create variables of different data types (int, float, str, bool, complex) and print their types.\n",
        "a = 10\n",
        "print(type(a))\n",
        "b = 10.4\n",
        "print(type(b))\n",
        "c = \"Khushboo\"\n",
        "print(type(c))\n",
        "d = 2+4j\n",
        "print(type(d))\n"
      ]
    },
    {
      "cell_type": "code",
      "source": [
        "#Swap two variables without using a third variable.\n",
        "a = 40\n",
        "b = 20\n",
        "a, b = b, a\n",
        "print(f\"a after swapping: {a}\")\n",
        "print(f\"b after swapping: {b}\")"
      ],
      "metadata": {
        "colab": {
          "base_uri": "https://localhost:8080/"
        },
        "id": "T1qWwjfv8AXw",
        "outputId": "c405607a-5c88-4ab9-c6d8-1187140cff50"
      },
      "execution_count": null,
      "outputs": [
        {
          "output_type": "stream",
          "name": "stdout",
          "text": [
            "a after swapping: 20\n",
            "b after swapping: 40\n"
          ]
        }
      ]
    },
    {
      "cell_type": "code",
      "source": [
        "#Take the name, age, and height from the user and print a formatted sentence using those variables.\n",
        "\n",
        "name = input(\"Enter your name: \")\n",
        "age = int(input(\"Enter your age: \"))\n",
        "height = float(input(\"Enter your height: \"))\n",
        "print(f\"Your name is {name}, age is {age} and height is {height}\")"
      ],
      "metadata": {
        "colab": {
          "base_uri": "https://localhost:8080/"
        },
        "id": "xdwV2rLJ9Qi3",
        "outputId": "8e0b08ae-12b6-4cd5-ec11-640e67a08faf"
      },
      "execution_count": null,
      "outputs": [
        {
          "output_type": "stream",
          "name": "stdout",
          "text": [
            "Enter your name: khush\n",
            "Enter your age: 24\n",
            "Enter your height: 5.4\n",
            "Your name is khush, age is 24 and height is 5.4\n"
          ]
        }
      ]
    },
    {
      "cell_type": "code",
      "source": [
        "#Assign multiple values to multiple variables in a single line. Then print them.\n",
        "a, b, c = 10, 10.5, \"Khush\"\n",
        "print(a)\n",
        "print(b)\n",
        "print(c)"
      ],
      "metadata": {
        "colab": {
          "base_uri": "https://localhost:8080/"
        },
        "id": "99UIHKxE_X5F",
        "outputId": "79474e6c-3cca-4c3f-cf84-8223c3bc2033"
      },
      "execution_count": null,
      "outputs": [
        {
          "output_type": "stream",
          "name": "stdout",
          "text": [
            "10\n",
            "10.5\n",
            "Khush\n"
          ]
        }
      ]
    },
    {
      "cell_type": "code",
      "source": [
        "print(type(c))"
      ],
      "metadata": {
        "colab": {
          "base_uri": "https://localhost:8080/"
        },
        "id": "nHppvIlx_u_b",
        "outputId": "0907ea50-f85b-415d-9709-c8e5e1841658"
      },
      "execution_count": null,
      "outputs": [
        {
          "output_type": "stream",
          "name": "stdout",
          "text": [
            "<class 'str'>\n"
          ]
        }
      ]
    },
    {
      "cell_type": "code",
      "source": [
        "#Demonstrate dynamic typing by changing the type of a variable in the same program.\n",
        "x = 10\n",
        "print(type(x))\n",
        "\n",
        "x = \"Ten\"\n",
        "print(type(x))"
      ],
      "metadata": {
        "colab": {
          "base_uri": "https://localhost:8080/"
        },
        "id": "VMBYmCW0_7PI",
        "outputId": "39a4de78-4762-4ca8-83cb-1d5dd8aaec40"
      },
      "execution_count": null,
      "outputs": [
        {
          "output_type": "stream",
          "name": "stdout",
          "text": [
            "<class 'int'>\n",
            "<class 'str'>\n"
          ]
        }
      ]
    },
    {
      "cell_type": "code",
      "source": [
        "#Write a program to show valid and invalid variable names. (Comment out invalid ones)\n",
        "x = 10\n",
        "#-x = 20\n",
        "#10x = \"abc\"\n",
        "#10 = \"abc\"\n",
        "_x = 10\n",
        "\n",
        "print(x)\n",
        "print(_x)\n"
      ],
      "metadata": {
        "colab": {
          "base_uri": "https://localhost:8080/"
        },
        "id": "IInQREo3BQBi",
        "outputId": "29b9317b-50e7-49cc-9a09-14cbcd41796b"
      },
      "execution_count": null,
      "outputs": [
        {
          "output_type": "stream",
          "name": "stdout",
          "text": [
            "10\n",
            "10\n"
          ]
        }
      ]
    },
    {
      "cell_type": "code",
      "source": [
        "#Write a program that declares a variable with your name and prints its reverse.\n",
        "name = \"Khushboo\"\n",
        "print(name[::-1])"
      ],
      "metadata": {
        "colab": {
          "base_uri": "https://localhost:8080/"
        },
        "id": "IsoEREeKB1n_",
        "outputId": "eb1f7dd9-2f29-4e27-d8e0-c3ca8f0819ac"
      },
      "execution_count": null,
      "outputs": [
        {
          "output_type": "stream",
          "name": "stdout",
          "text": [
            "oobhsuhK\n"
          ]
        }
      ]
    },
    {
      "cell_type": "code",
      "source": [
        "#Create a variable that holds a complex number. Print its real and imaginary parts separately.\n",
        "x = 4 + 5j\n",
        "print(\"real part: \", x.real)\n",
        "print(\"Imaginary part: \", x.imag)"
      ],
      "metadata": {
        "colab": {
          "base_uri": "https://localhost:8080/"
        },
        "id": "SgYex-QzB_ME",
        "outputId": "4fbc5e72-4ff1-46a7-ecf0-0795b9096537"
      },
      "execution_count": null,
      "outputs": [
        {
          "output_type": "stream",
          "name": "stdout",
          "text": [
            "real part:  4.0\n",
            "Imaginary part:  5.0\n"
          ]
        }
      ]
    },
    {
      "cell_type": "code",
      "source": [
        "#Write a program that asks the user for their birth year and calculates their current age.\n",
        "birth_year = int(input(\"Enter your birth year: \"))\n",
        "current_year = 2025\n",
        "age = current_year - birth_year\n",
        "print(f\"Your age is {age}\")"
      ],
      "metadata": {
        "colab": {
          "base_uri": "https://localhost:8080/"
        },
        "id": "TImO65qjCXmT",
        "outputId": "e7dc7a2e-42e3-46d6-a6bc-3edb102d7a96"
      },
      "execution_count": null,
      "outputs": [
        {
          "output_type": "stream",
          "name": "stdout",
          "text": [
            "Enter your birth year: 2002\n",
            "Your age is 23\n"
          ]
        }
      ]
    },
    {
      "cell_type": "code",
      "source": [
        "#Declare a constant (use uppercase by convention) and print its value. Try changing it — does Python stop you? Why or why not?\n",
        "\n",
        "PI = 3.14159\n",
        "print(\"PI value\", PI)\n",
        "\n",
        "PI = 3.14\n",
        "print(\"Modified PI value\", PI)"
      ],
      "metadata": {
        "colab": {
          "base_uri": "https://localhost:8080/"
        },
        "id": "nDBdRs81CqEp",
        "outputId": "d8186dfc-cd86-4981-d386-1f0aeada34f2"
      },
      "execution_count": null,
      "outputs": [
        {
          "output_type": "stream",
          "name": "stdout",
          "text": [
            "PI value 3.14159\n",
            "Modified PI value 3.14\n"
          ]
        }
      ]
    },
    {
      "cell_type": "code",
      "source": [],
      "metadata": {
        "id": "7MP7POE2Eosa"
      },
      "execution_count": null,
      "outputs": []
    }
  ]
}