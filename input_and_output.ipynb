{
  "nbformat": 4,
  "nbformat_minor": 0,
  "metadata": {
    "colab": {
      "provenance": [],
      "authorship_tag": "ABX9TyNf55YrR/uQnrbXMFsOJvg9",
      "include_colab_link": true
    },
    "kernelspec": {
      "name": "python3",
      "display_name": "Python 3"
    },
    "language_info": {
      "name": "python"
    }
  },
  "cells": [
    {
      "cell_type": "markdown",
      "metadata": {
        "id": "view-in-github",
        "colab_type": "text"
      },
      "source": [
        "<a href=\"https://colab.research.google.com/github/KhushbooChaudhari10/Python_Practice/blob/main/input_and_output.ipynb\" target=\"_parent\"><img src=\"https://colab.research.google.com/assets/colab-badge.svg\" alt=\"Open In Colab\"/></a>"
      ]
    },
    {
      "cell_type": "code",
      "execution_count": null,
      "metadata": {
        "colab": {
          "base_uri": "https://localhost:8080/"
        },
        "id": "eIyg1huOgXSf",
        "outputId": "8c291752-918f-4080-9d7e-eef2c9306d85"
      },
      "outputs": [
        {
          "output_type": "stream",
          "name": "stdout",
          "text": [
            "Enter Your name: khush\n",
            "Enter Your age: 23\n",
            "Your name is khush and age is 23\n"
          ]
        }
      ],
      "source": [
        "#Take name and age as input and print them in a formatted string.\n",
        "name = input(\"Enter Your name: \")\n",
        "age = int(input(\"Enter Your age: \"))\n",
        "print(f\"Your name is {name} and age is {age}\")"
      ]
    },
    {
      "cell_type": "code",
      "source": [
        "#Take two numbers as input and print their sum, difference, product, and division.\n",
        "num1 = int(input(\"Enter first number: \"))\n",
        "num2 = int(input(\"Enter second number: \"))\n",
        "print(f\"Sum of {num1} and {num2} is {num1+num2}\")\n",
        "print(f\"Sub of {num1} and {num2} is {num1-num2}\")\n",
        "print(f\"Mul of {num1} and {num2} is {num1*num2}\")\n",
        "print(f\"Div of {num1} and {num2} is {num1/num2}\")"
      ],
      "metadata": {
        "colab": {
          "base_uri": "https://localhost:8080/"
        },
        "id": "TXMQZWjXgtqf",
        "outputId": "dee16fb7-dd31-46ba-f644-f9f534de122c"
      },
      "execution_count": null,
      "outputs": [
        {
          "output_type": "stream",
          "name": "stdout",
          "text": [
            "Enter first number: 10\n",
            "Enter second number: 5\n",
            "Sum of 10 and 5 is 15\n",
            "Sub of 10 and 5 is 5\n",
            "Mul of 10 and 5 is 50\n",
            "Div of 10 and 5 is 2.0\n"
          ]
        }
      ]
    },
    {
      "cell_type": "code",
      "source": [
        "#Ask the user for a string and an integer. Print the string that many times.\n",
        "name = input(\"Enter Your name: \")\n",
        "num = int(input(\"Enter Your number: \"))\n",
        "for i in range(num):\n",
        "  print(name)"
      ],
      "metadata": {
        "colab": {
          "base_uri": "https://localhost:8080/"
        },
        "id": "dozJDJSMhYRi",
        "outputId": "a6a22341-025f-4512-8437-a3e17dc34496"
      },
      "execution_count": null,
      "outputs": [
        {
          "output_type": "stream",
          "name": "stdout",
          "text": [
            "Enter Your name: khush\n",
            "Enter Your number: 5\n",
            "khush\n",
            "khush\n",
            "khush\n",
            "khush\n",
            "khush\n"
          ]
        }
      ]
    },
    {
      "cell_type": "code",
      "source": [
        "#Take comma-separated numbers from the user and print the list and tuple.\n",
        "input_str = input(\"Enter comma separated numbers: \")\n",
        "num_list = list(map(int, input_str.split(',')))\n",
        "num_tuple = tuple(num_list)\n",
        "print(f\"List: {num_list}\")\n",
        "print(f\"Tuple: {num_tuple}\")"
      ],
      "metadata": {
        "colab": {
          "base_uri": "https://localhost:8080/"
        },
        "id": "yCenmH0nhxeb",
        "outputId": "160c5da7-b176-4985-d76e-9ca5c91b9af0"
      },
      "execution_count": null,
      "outputs": [
        {
          "output_type": "stream",
          "name": "stdout",
          "text": [
            "Enter comma separated numbers: 1,2,3,4\n",
            "List: [1, 2, 3, 4]\n",
            "Tuple: (1, 2, 3, 4)\n"
          ]
        }
      ]
    },
    {
      "cell_type": "code",
      "source": [
        "#Print the following using only one print() statement:\n",
        "\n",
        "name = \"khush\"\n",
        "age = 23\n",
        "city = \"Pune\"\n",
        "print(f\"my name is {name}, age is {age} and I am llocated in {city}\")"
      ],
      "metadata": {
        "colab": {
          "base_uri": "https://localhost:8080/"
        },
        "id": "S8mjujGztfCE",
        "outputId": "cdce5453-13d6-4034-ad44-52ef09f18109"
      },
      "execution_count": null,
      "outputs": [
        {
          "output_type": "stream",
          "name": "stdout",
          "text": [
            "my name is khush, age is 23 and I am llocated in Pune\n"
          ]
        }
      ]
    },
    {
      "cell_type": "code",
      "source": [
        "#Take radius as input and print area of a circle with 2 decimal places.\n",
        "\n",
        "r = float(input(\"Enter the radius: \"))\n",
        "PI = 3.14\n",
        "area =  PI * r * r\n",
        "\n",
        "print(f\"Area of circle is {area: .2f}\")"
      ],
      "metadata": {
        "colab": {
          "base_uri": "https://localhost:8080/"
        },
        "id": "8li2hLCzxNEH",
        "outputId": "bc7b2ee2-f7ef-41e2-94e9-fbc162fad8b6"
      },
      "execution_count": null,
      "outputs": [
        {
          "output_type": "stream",
          "name": "stdout",
          "text": [
            "Enter the radius: 17\n",
            "Area of circle is  907.46\n"
          ]
        }
      ]
    },
    {
      "cell_type": "code",
      "source": [
        "#Write a program to take a floating-point number and print only the integer part.\n",
        "num = float(input(\"enter the number: \"))\n",
        "print(int(num))"
      ],
      "metadata": {
        "colab": {
          "base_uri": "https://localhost:8080/"
        },
        "id": "lmkoLHPax6xu",
        "outputId": "e4bd2ef0-ddba-4691-9bf1-0bc2d96e6d0c"
      },
      "execution_count": null,
      "outputs": [
        {
          "output_type": "stream",
          "name": "stdout",
          "text": [
            "enter the number: 14.23\n",
            "14\n"
          ]
        }
      ]
    },
    {
      "cell_type": "code",
      "source": [
        "#Align three columns of data (Name, Age, City) using string formatting.\n",
        "data = [\n",
        "    (\"John\", 25, \"Delhi\"),\n",
        "    (\"Alice\", 30, \"Pune\"),\n",
        "    (\"Khush\", 23, \"Mumbai\")\n",
        "]\n",
        "\n",
        "print(f\"{'Name': <10} {'Age': <10} {'City': <10}\")\n",
        "for name, age, city in data:\n",
        "    print(f\"{name: <10} {age: <10} {city: <10}\")"
      ],
      "metadata": {
        "colab": {
          "base_uri": "https://localhost:8080/"
        },
        "id": "1CHroBXGzlhR",
        "outputId": "7fdae789-a951-4cd2-e213-bdd573f2b74c"
      },
      "execution_count": null,
      "outputs": [
        {
          "output_type": "stream",
          "name": "stdout",
          "text": [
            "Name       Age        City      \n",
            "John       25         Delhi     \n",
            "Alice      30         Pune      \n",
            "Khush      23         Mumbai    \n"
          ]
        }
      ]
    },
    {
      "cell_type": "code",
      "source": [
        "#Take a sentence as input and print the number of words and characters.\n",
        "sentence = input(\"Enter the sentence: \")\n",
        "word_count = len(sentence.split())\n",
        "character_count =len(sentence.replace(\" \", \"\"))\n",
        "print(f\"Number of words in sentence is {word_count}\")\n",
        "print(f\"Number of characters in sentence is {character_count}\")"
      ],
      "metadata": {
        "colab": {
          "base_uri": "https://localhost:8080/"
        },
        "id": "la5-wZEu0C5j",
        "outputId": "c38745f1-d72b-43ab-87e0-478d80c99c2a"
      },
      "execution_count": null,
      "outputs": [
        {
          "output_type": "stream",
          "name": "stdout",
          "text": [
            "Enter the sentence: I like Rose\n",
            "Number of words in sentence is 3\n",
            "Number of characters in sentence is 9\n"
          ]
        }
      ]
    },
    {
      "cell_type": "code",
      "source": [],
      "metadata": {
        "id": "XQ2Z0POk2GbF"
      },
      "execution_count": null,
      "outputs": []
    }
  ]
}