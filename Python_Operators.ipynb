{
  "nbformat": 4,
  "nbformat_minor": 0,
  "metadata": {
    "colab": {
      "provenance": [],
      "authorship_tag": "ABX9TyPFzhMR8mCCnpV2noZRLfHN",
      "include_colab_link": true
    },
    "kernelspec": {
      "name": "python3",
      "display_name": "Python 3"
    },
    "language_info": {
      "name": "python"
    }
  },
  "cells": [
    {
      "cell_type": "markdown",
      "metadata": {
        "id": "view-in-github",
        "colab_type": "text"
      },
      "source": [
        "<a href=\"https://colab.research.google.com/github/KhushbooChaudhari10/Python_Practice/blob/main/Python_Operators.ipynb\" target=\"_parent\"><img src=\"https://colab.research.google.com/assets/colab-badge.svg\" alt=\"Open In Colab\"/></a>"
      ]
    },
    {
      "cell_type": "code",
      "execution_count": null,
      "metadata": {
        "colab": {
          "base_uri": "https://localhost:8080/"
        },
        "id": "e6V_A_27O2cF",
        "outputId": "54ba8a0c-0680-4efe-9638-e1b6a2297fbb"
      },
      "outputs": [
        {
          "output_type": "stream",
          "name": "stdout",
          "text": [
            "Enter first number: 10\n",
            "Enter second number: 2\n",
            "Sum:  12\n",
            "Difference:  8\n",
            "Product:  20\n",
            "Division:  5.0\n",
            "Modulus:  0\n",
            "Exponent:  100\n",
            "Floor Division:  5\n"
          ]
        }
      ],
      "source": [
        "# Take two numbers as input and print their:\n",
        "# Sum\n",
        "# Difference\n",
        "# Product\n",
        "# Division\n",
        "# Modulus\n",
        "# Exponent\n",
        "# Floor Division\n",
        "\n",
        "a = int(input(\"Enter first number: \"))\n",
        "b = int(input(\"Enter second number: \"))\n",
        "\n",
        "print(\"Sum: \", a+b)\n",
        "print(\"Difference: \", a-b)\n",
        "print(\"Product: \", a*b)\n",
        "print(\"Division: \", a/b)\n",
        "print(\"Modulus: \", a%b)\n",
        "print(\"Exponent: \",a**b)\n",
        "print(\"Floor Division: \",a//b)\n"
      ]
    },
    {
      "cell_type": "code",
      "source": [
        "#Write a program to calculate the square and cube of a given number using ** operator.\n",
        "num = int(input(\"Enter the number: \"))\n",
        "square = num ** 2\n",
        "cube = num ** 3\n",
        "print(f\"square of {num} is {square}\")\n",
        "print(f\"cube of {num} is {cube}\")"
      ],
      "metadata": {
        "colab": {
          "base_uri": "https://localhost:8080/"
        },
        "id": "-bEDcrA8PsBI",
        "outputId": "fa7d1e75-7ec1-451f-ec13-64bdd11952bc"
      },
      "execution_count": null,
      "outputs": [
        {
          "output_type": "stream",
          "name": "stdout",
          "text": [
            "Enter the number: 5\n",
            "square of 5 is 25\n",
            "cube of 5 is 125\n"
          ]
        }
      ]
    },
    {
      "cell_type": "code",
      "source": [
        "# Create a BMI calculator:\n",
        "# Take weight (kg) and height (m) from user and calculate BMI = weight / height²\n",
        "\n",
        "Weight = int(input(\"Enter Your weight: \"))\n",
        "height = float(input(\"Enter Your height: \"))\n",
        "BMI = Weight / (height * height)\n",
        "print(\"Your BMI is: \", BMI)"
      ],
      "metadata": {
        "colab": {
          "base_uri": "https://localhost:8080/"
        },
        "id": "OsXNJZzlQTub",
        "outputId": "2139ba4e-ceeb-44a3-9702-e8490815cbb8"
      },
      "execution_count": null,
      "outputs": [
        {
          "output_type": "stream",
          "name": "stdout",
          "text": [
            "Enter Your weight: 50\n",
            "Enter Your height: 1.65\n",
            "Your BMI is:  18.36547291092746\n"
          ]
        }
      ]
    },
    {
      "cell_type": "code",
      "source": [
        "# Take two numbers and compare them using:\n",
        "\n",
        "# ==, !=, >, <, >=, <=\n",
        "# Print the result of each comparison.\n",
        "\n",
        "a = int(input(\"Enter first number: \"))\n",
        "b = int(input(\"Enter second number: \"))\n",
        "\n",
        "if (a == b):\n",
        "  print(\"a and b are equal\")\n",
        "# elif (a != b):\n",
        "#   print(\"a and b are not equal\")\n",
        "elif (a > b):\n",
        "  print(\"a is greater than b\")\n",
        "elif (a < b):\n",
        "  print(\"a is less than b\")\n",
        "elif (a <= b):\n",
        "  print(\"a is less than or equal to b\")\n",
        "elif (a >= b):\n",
        "  print(\"a is greater than or equal to b\")"
      ],
      "metadata": {
        "colab": {
          "base_uri": "https://localhost:8080/"
        },
        "id": "AcH7p3EWQozm",
        "outputId": "822f8e67-0f8d-4b14-d8f1-9cd35faa1511"
      },
      "execution_count": null,
      "outputs": [
        {
          "output_type": "stream",
          "name": "stdout",
          "text": [
            "Enter first number: 10\n",
            "Enter second number: 20\n",
            "a is less than b\n"
          ]
        }
      ]
    },
    {
      "cell_type": "code",
      "source": [
        "# Ask the user to enter their age. If it's greater than or equal to 18, print \"Eligible to vote\", else print \"Not eligible\".\n",
        "\n",
        "age = int(input(\"Enter age: \"))\n",
        "if age >= 18:\n",
        "  print(\"Eligible to vote\")\n",
        "else:\n",
        "  print(\"Not eligible\")"
      ],
      "metadata": {
        "colab": {
          "base_uri": "https://localhost:8080/"
        },
        "id": "FlnfYu8xSZcW",
        "outputId": "09ed608f-8626-4a6a-c012-8ca301386646"
      },
      "execution_count": null,
      "outputs": [
        {
          "output_type": "stream",
          "name": "stdout",
          "text": [
            "Enter age: 23\n",
            "Eligible to vote\n"
          ]
        }
      ]
    },
    {
      "cell_type": "code",
      "source": [
        "# Ask the user for age and citizenship status.\n",
        "# # If age >= 18 and citizenship is \"yes\", print \"Can apply for ID\". Else, print \"Not eligible\"\n",
        "\n",
        "age = int(input(\"Ente age: \"))\n",
        "citizenship = input(\"Enter citizenship status: \")\n",
        "if age >= 18 and citizenship == \"yes\":\n",
        "  print(\"can apply for ID\")\n",
        "else:\n",
        "  print(\"Not eligible\")"
      ],
      "metadata": {
        "colab": {
          "base_uri": "https://localhost:8080/"
        },
        "id": "-m2NHL-1S4c7",
        "outputId": "f3a17164-644f-42ed-cd0e-daef135b4dea"
      },
      "execution_count": null,
      "outputs": [
        {
          "output_type": "stream",
          "name": "stdout",
          "text": [
            "Ente age: 20\n",
            "Enter citizenship status: yes\n",
            "can apply for ID\n"
          ]
        }
      ]
    },
    {
      "cell_type": "code",
      "source": [
        "# Write a program to check if a number is:\n",
        "\n",
        "# positive and even\n",
        "\n",
        "# negative or odd\n",
        "\n",
        "n = int(input(\"Enter a number: \"))\n",
        "if n > 0 and n%2 == 0:\n",
        "  print(\"Positive and even\")\n",
        "elif n < 0 or n%2 != 0:\n",
        "  print(\"negative or odd\")\n",
        "else:\n",
        "  print(\"Number is 0 and even\")"
      ],
      "metadata": {
        "colab": {
          "base_uri": "https://localhost:8080/"
        },
        "id": "BdYYxiIEh48_",
        "outputId": "357ba9e0-4867-4ed8-d0c6-80a08dddde8d"
      },
      "execution_count": null,
      "outputs": [
        {
          "output_type": "stream",
          "name": "stdout",
          "text": [
            "Enter a number: -4\n",
            "negative or odd\n"
          ]
        }
      ]
    },
    {
      "cell_type": "code",
      "source": [
        "# Take a number and increase it by 10 using +=. Then multiply it by 2 using *= and print final result.\n",
        "\n",
        "n = int(input(\"Enter the number: \"))\n",
        "n += 10\n",
        "n *= 2\n",
        "print(n)"
      ],
      "metadata": {
        "colab": {
          "base_uri": "https://localhost:8080/"
        },
        "id": "SvJqD42ZiyP8",
        "outputId": "4f7522d1-a8e4-4153-d30b-96c7987cf66e"
      },
      "execution_count": null,
      "outputs": [
        {
          "output_type": "stream",
          "name": "stdout",
          "text": [
            "Enter the number: 10\n",
            "40\n"
          ]
        }
      ]
    },
    {
      "cell_type": "code",
      "source": [
        "# Demonstrate //=, %=, and **= using a single variable.\n",
        "n = int(input(\"Enter the number: \"))\n",
        "n //= 2\n",
        "n %= 2\n",
        "n **= 2\n",
        "print(n)\n"
      ],
      "metadata": {
        "colab": {
          "base_uri": "https://localhost:8080/"
        },
        "id": "0Wjt6zBzrywb",
        "outputId": "60d6f413-0c16-4764-f68e-76582a0608c5"
      },
      "execution_count": null,
      "outputs": [
        {
          "output_type": "stream",
          "name": "stdout",
          "text": [
            "Enter the number: 27\n",
            "1\n"
          ]
        }
      ]
    },
    {
      "cell_type": "code",
      "source": [
        "# Take two integers and print results of:\n",
        "\n",
        "# & (AND)\n",
        "\n",
        "# | (OR)\n",
        "\n",
        "# ^ (XOR)\n",
        "\n",
        "# ~ (NOT)\n",
        "\n",
        "# << (left shift)\n",
        "\n",
        "# # >> (right shift)\n",
        "\n",
        "n1 = int(input(\"Enter first number: \"))\n",
        "n2 = int(input(\"Enter second number: \"))\n",
        "print(n1 & n2)\n",
        "print(n1 ^ n2)\n",
        "print(n1 | n2)\n",
        "print(~ n1)\n",
        "print(n1 << n2)\n",
        "print(n1 >> n2)\n"
      ],
      "metadata": {
        "colab": {
          "base_uri": "https://localhost:8080/"
        },
        "id": "LVIuDdagsPYh",
        "outputId": "feb314fc-89f4-43b6-a1b8-ee4cc96e49bf"
      },
      "execution_count": null,
      "outputs": [
        {
          "output_type": "stream",
          "name": "stdout",
          "text": [
            "Enter first number: 15\n",
            "Enter second number: 5\n",
            "5\n",
            "10\n",
            "15\n",
            "-16\n",
            "480\n",
            "0\n"
          ]
        }
      ]
    },
    {
      "cell_type": "code",
      "source": [
        "# Create two lists with the same values. Use is and == to compare them and explain the difference.\n",
        "a = [1, 2, 3, 4]\n",
        "b = [1, 2, 3, 4]\n",
        "if a is b:\n",
        "  print(\"yes\")\n"
      ],
      "metadata": {
        "id": "2x0yEzkvtEXy"
      },
      "execution_count": null,
      "outputs": []
    },
    {
      "cell_type": "code",
      "source": [
        "# Take a string input and check:\n",
        "\n",
        "# 'a' in string\n",
        "\n",
        "# 'xyz' not in string\n",
        "\n",
        "string = input(\"Enter a string: \")\n",
        "if 'a' in string:\n",
        "  print(\"a is in string\")\n",
        "else:\n",
        "  print(\"a is not in string\")\n",
        "\n",
        "if 'xyz' not in string:\n",
        "  print(\"xyz is not in string\")\n",
        "else:\n",
        "  print(\"xyz is in string\")"
      ],
      "metadata": {
        "colab": {
          "base_uri": "https://localhost:8080/"
        },
        "id": "AM79WbY957mU",
        "outputId": "19eb534d-71ac-49e2-8441-61ec9f1eb5ae"
      },
      "execution_count": null,
      "outputs": [
        {
          "output_type": "stream",
          "name": "stdout",
          "text": [
            "Enter a string: akankshaxyz\n",
            "a is in string\n",
            "xyz is in string\n"
          ]
        }
      ]
    },
    {
      "cell_type": "code",
      "source": [
        "# Write a calculator that takes two numbers and an operator (+, -, *, /, //, %, **) as input and prints the result.\n",
        "\n",
        "num1 = int(input(\"Enter first number: \"))\n",
        "num2 = int(input(\"Enter second number: \"))\n",
        "operator = input(\"Enter operators (+, -, *, /, //, %, **): \")\n",
        "if operator == '+':\n",
        "  print(num1 + num2)\n",
        "elif operator == '-':\n",
        "  print(num1 - num2)\n",
        "elif operator == '*':\n",
        "  print(num1 * num2)\n",
        "elif operator == '/':\n",
        "  if num2 != 0:\n",
        "    print(num1 / num2)\n",
        "  else:\n",
        "    print(\"error : divided by 0\")\n",
        "elif operator == '//':\n",
        "  if num2 != 0:\n",
        "    print(num1 // num2)\n",
        "  else:\n",
        "    print(\"error : divided by 0\")\n",
        "elif operator == '%':\n",
        "  if num2 != 0:\n",
        "    print(num1 % num2)\n",
        "  else:\n",
        "    print(\"error : divided by 0\")\n",
        "elif operator == '**':\n",
        "  print(num1 ** num2)\n",
        "else:\n",
        "  print(\"Invalid operator\")\n"
      ],
      "metadata": {
        "colab": {
          "base_uri": "https://localhost:8080/"
        },
        "id": "K5itGA3N6xt4",
        "outputId": "f9cd89ec-9e6f-4f73-f236-1f5835c09380"
      },
      "execution_count": null,
      "outputs": [
        {
          "output_type": "stream",
          "name": "stdout",
          "text": [
            "Enter first number: 10\n",
            "Enter second number: 5\n",
            "Enter operators (+, -, *, /, //, %, **): +\n",
            "15\n"
          ]
        }
      ]
    },
    {
      "cell_type": "code",
      "source": [
        "# Take 3 numbers and find the largest using logical and comparison operators.\n",
        "a = int(input(\"Enter first number: \"))\n",
        "b = int(input(\"Enter second number: \"))\n",
        "c = int(input(\"Enter third number: \"))\n",
        "if a > b and a > c:\n",
        "  print(a, \"is largest\")\n",
        "elif b > a and b > c:\n",
        "  print(b, \"is largest\")\n",
        "else:\n",
        "  print(c, \"is largest\")"
      ],
      "metadata": {
        "colab": {
          "base_uri": "https://localhost:8080/"
        },
        "id": "BaZz8sdB8pQS",
        "outputId": "81641c2f-9c4f-44e5-c5fe-093aa7bcc9df"
      },
      "execution_count": null,
      "outputs": [
        {
          "output_type": "stream",
          "name": "stdout",
          "text": [
            "Enter first number: 4\n",
            "Enter second number: 3\n",
            "Enter third number: 6\n",
            "6 is largest\n"
          ]
        }
      ]
    },
    {
      "cell_type": "code",
      "source": [
        "# Take marks from user. If marks are:\n",
        "\n",
        "# >= 90: Grade A\n",
        "\n",
        "# >= 75: Grade B\n",
        "\n",
        "# >= 60: Grade C\n",
        "\n",
        "# Else: Fail\n",
        "# Use only relational and logical operators (no if-elif-else nesting).\n",
        "\n",
        "marks = int(input(\"Enter Your marks: \"))\n",
        "Grade_A = marks >= 90\n",
        "Grade_B = marks >= 75 and marks < 90\n",
        "Grade_C = marks >= 60 and marks < 75\n",
        "fail    = marks < 60\n",
        "\n",
        "print(\"Grade: A\") if Grade_A else \\\n",
        "print(\"Grade: B\") if Grade_B else \\\n",
        "print(\"Grade: C\") if Grade_C else \\\n",
        "print(\"Fail\")"
      ],
      "metadata": {
        "colab": {
          "base_uri": "https://localhost:8080/"
        },
        "id": "yx4WDlcD_9zt",
        "outputId": "3fd71897-a227-4928-d22e-23edb2a0a3db"
      },
      "execution_count": null,
      "outputs": [
        {
          "output_type": "stream",
          "name": "stdout",
          "text": [
            "Enter Your marks: 87\n",
            "Grade: B\n"
          ]
        }
      ]
    },
    {
      "cell_type": "code",
      "source": [],
      "metadata": {
        "id": "J6x7L07dDy0E"
      },
      "execution_count": null,
      "outputs": []
    }
  ]
}